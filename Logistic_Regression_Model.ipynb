{
 "cells": [
  {
   "cell_type": "code",
   "execution_count": 24,
   "metadata": {},
   "outputs": [],
   "source": [
    "import numpy as np\n",
    "import numpy.random as nr\n",
    "import pandas as pd\n",
    "import matplotlib.pyplot as plt\n",
    "#from sklearn.model_selection import train_test_split\n",
    "\n",
    "import sklearn.model_selection as ms\n",
    "from sklearn import feature_selection as fs\n",
    "import sklearn.metrics as sklm\n",
    "from sklearn import preprocessing\n",
    "from sklearn import linear_model\n",
    "import scipy.stats as ss\n",
    "import seaborn as sns\n",
    "import math\n"
   ]
  },
  {
   "cell_type": "code",
   "execution_count": 25,
   "metadata": {},
   "outputs": [],
   "source": [
    "df=pd.read_csv(\"clean_data_with_Agegroup\")\n"
   ]
  },
  {
   "cell_type": "code",
   "execution_count": 27,
   "metadata": {},
   "outputs": [
    {
     "data": {
      "text/plain": [
       "0    10953\n",
       "1     5451\n",
       "Name: BikeBuyer, dtype: int64"
      ]
     },
     "execution_count": 27,
     "metadata": {},
     "output_type": "execute_result"
    }
   ],
   "source": [
    "df['BikeBuyer'].value_counts()"
   ]
  },
  {
   "cell_type": "code",
   "execution_count": 28,
   "metadata": {},
   "outputs": [
    {
     "name": "stdout",
     "output_type": "stream",
     "text": [
      "<class 'pandas.core.frame.DataFrame'>\n",
      "RangeIndex: 16404 entries, 0 to 16403\n",
      "Data columns (total 25 columns):\n",
      " #   Column                Non-Null Count  Dtype  \n",
      "---  ------                --------------  -----  \n",
      " 0   Unnamed: 0            16404 non-null  int64  \n",
      " 1   CustomerID            16404 non-null  int64  \n",
      " 2   FirstName             16404 non-null  object \n",
      " 3   LastName              16404 non-null  object \n",
      " 4   AddressLine1          16404 non-null  object \n",
      " 5   City                  16404 non-null  object \n",
      " 6   StateProvinceName     16404 non-null  object \n",
      " 7   CountryRegionName     16404 non-null  object \n",
      " 8   PostalCode            16404 non-null  object \n",
      " 9   PhoneNumber           16404 non-null  object \n",
      " 10  BirthDate             16404 non-null  object \n",
      " 11  Education             16404 non-null  object \n",
      " 12  Occupation            16404 non-null  object \n",
      " 13  Gender                16404 non-null  object \n",
      " 14  MaritalStatus         16404 non-null  object \n",
      " 15  HomeOwnerFlag         16404 non-null  int64  \n",
      " 16  NumberCarsOwned       16404 non-null  int64  \n",
      " 17  NumberChildrenAtHome  16404 non-null  int64  \n",
      " 18  TotalChildren         16404 non-null  int64  \n",
      " 19  YearlyIncome          16404 non-null  int64  \n",
      " 20  BikeBuyer             16404 non-null  int64  \n",
      " 21  AveMonthSpend         16404 non-null  int64  \n",
      " 22  age                   16404 non-null  int64  \n",
      " 23  agegroup              16404 non-null  object \n",
      " 24  dummy                 16404 non-null  float64\n",
      "dtypes: float64(1), int64(10), object(14)\n",
      "memory usage: 3.1+ MB\n"
     ]
    }
   ],
   "source": [
    "df.info()"
   ]
  },
  {
   "cell_type": "code",
   "execution_count": 29,
   "metadata": {},
   "outputs": [
    {
     "name": "stdout",
     "output_type": "stream",
     "text": [
      "['Bachelors ' 'Partial College' 'High School' 'Partial High School'\n",
      " 'Graduate Degree']\n",
      "['Professional' 'Management' 'Skilled Manual' 'Clerical' 'Manual']\n",
      "['M' 'F']\n",
      "['M' 'S']\n",
      "['25-45' '0-25' '45-55' '55-120']\n",
      "[1 0]\n"
     ]
    }
   ],
   "source": [
    "#specify the categorical columns\n",
    "cat_columns=['Education','Occupation','Gender','MaritalStatus','agegroup','HomeOwnerFlag']\n",
    "for cat in cat_columns:\n",
    "    print(df[cat].unique())\n",
    "    \n"
   ]
  },
  {
   "cell_type": "code",
   "execution_count": 30,
   "metadata": {},
   "outputs": [],
   "source": [
    "numerical_columns=['NumberCarsOwned','NumberChildrenAtHome','TotalChildren','YearlyIncome']"
   ]
  },
  {
   "cell_type": "code",
   "execution_count": 31,
   "metadata": {},
   "outputs": [],
   "source": [
    "def encode_string(cat_features):\n",
    "    #encode string to numeric categories\n",
    "    enc=preprocessing.LabelEncoder()\n",
    "    enc.fit(cat_features)\n",
    "    enc_cat_features=enc.transform(cat_features)\n",
    "    \n",
    "    #Apply one-hot encodeing\n",
    "    ohe=preprocessing.OneHotEncoder()\n",
    "    encoded=ohe.fit(enc_cat_features.reshape(-1,1))\n",
    "    return encoded.transform(enc_cat_features.reshape(-1,1)).toarray()"
   ]
  },
  {
   "cell_type": "code",
   "execution_count": 12,
   "metadata": {},
   "outputs": [
    {
     "name": "stdout",
     "output_type": "stream",
     "text": [
      "Education (16404, 5)\n",
      "Occupation (16404, 5)\n",
      "Gender (16404, 2)\n",
      "MaritalStatus (16404, 2)\n",
      "agegroup (16404, 4)\n",
      "HomeOwnerFlag (16404, 2)\n",
      "20\n",
      "(16404, 20)\n",
      "[[1. 0. 0. 0. 0. 0. 0. 0. 1. 0. 0. 1. 1. 0. 0. 1. 0. 0. 0. 1.]\n",
      " [1. 0. 0. 0. 0. 0. 0. 0. 1. 0. 0. 1. 0. 1. 0. 1. 0. 0. 1. 0.]]\n"
     ]
    }
   ],
   "source": [
    "# create a list of empty lists to store categorical features\n",
    "alist = [ [] for _ in range(df.shape[0]) ]\n",
    "Cat_Features = np.array(alist)\n",
    "\n",
    "for col in cat_columns:\n",
    "    temp = encode_string(df[col])\n",
    "    print(col,temp.shape)\n",
    "    Cat_Features = np.concatenate([Cat_Features, temp], axis = 1)\n",
    "\n",
    "# used later to identify columns to start scaling\n",
    "start_num_idx = Cat_Features.shape[1] \n",
    "print(start_num_idx)\n",
    "\n",
    "print(Cat_Features.shape)\n",
    "print(Cat_Features[:2, :])   # first two sample rows \n",
    "\n"
   ]
  },
  {
   "cell_type": "code",
   "execution_count": 32,
   "metadata": {},
   "outputs": [
    {
     "name": "stdout",
     "output_type": "stream",
     "text": [
      "(16404, 4)\n"
     ]
    }
   ],
   "source": [
    "Num_Features=np.array(df[numerical_columns])\n",
    "print(Num_Features.shape)"
   ]
  },
  {
   "cell_type": "code",
   "execution_count": 33,
   "metadata": {},
   "outputs": [
    {
     "name": "stdout",
     "output_type": "stream",
     "text": [
      "[[     1.      0.      0.      0.      0.      0.      0.      0.      1.\n",
      "       0.      0.      1.      1.      0.      0.      1.      0.      0.\n",
      "       0.      1.      0.      0.      2. 137947.]\n",
      " [     1.      0.      0.      0.      0.      0.      0.      0.      1.\n",
      "       0.      0.      1.      0.      1.      0.      1.      0.      0.\n",
      "       1.      0.      1.      3.      3. 101141.]] (16404, 24)\n"
     ]
    }
   ],
   "source": [
    "Features = np.concatenate([Cat_Features, Num_Features], axis = 1)\n",
    "np.set_printoptions(suppress=True) # turn off scientific display\n",
    "print(Features[:2,:], Features.shape)\n"
   ]
  },
  {
   "cell_type": "code",
   "execution_count": 34,
   "metadata": {},
   "outputs": [],
   "source": [
    "nr.seed(9988)\n",
    "labels=np.array(df['BikeBuyer'])\n",
    "indx = range(Features.shape[0])\n",
    "\n",
    "\n",
    "indx = ms.train_test_split(indx, test_size = 0.3)\n",
    "\n",
    "X_train = Features[indx[0],:]\n",
    "y_train = np.ravel(labels[indx[0]])\n",
    "\n",
    "X_test = Features[indx[1],:]\n",
    "y_test = np.ravel(labels[indx[1]])"
   ]
  },
  {
   "cell_type": "code",
   "execution_count": 35,
   "metadata": {},
   "outputs": [
    {
     "name": "stdout",
     "output_type": "stream",
     "text": [
      "(11482, 24) (11482,)\n",
      "(4922, 24) (4922,)\n",
      "20\n"
     ]
    }
   ],
   "source": [
    "print(X_train.shape,y_train.shape)\n",
    "print(X_test.shape,y_test.shape)\n",
    "print(start_num_idx)"
   ]
  },
  {
   "cell_type": "code",
   "execution_count": 36,
   "metadata": {},
   "outputs": [
    {
     "name": "stdout",
     "output_type": "stream",
     "text": [
      "(11482, 24)\n"
     ]
    },
    {
     "data": {
      "text/plain": [
       "array([[ 0.        ,  0.        ,  0.        ,  1.        ,  0.        ,\n",
       "         1.        ,  0.        ,  0.        ,  0.        ,  0.        ,\n",
       "         1.        ,  0.        ,  0.        ,  1.        ,  0.        ,\n",
       "         0.        ,  0.        ,  1.        ,  1.        ,  0.        ,\n",
       "         0.43811237, -0.65272852, -0.00589171, -0.7929123 ],\n",
       "       [ 0.        ,  0.        ,  0.        ,  1.        ,  0.        ,\n",
       "         1.        ,  0.        ,  0.        ,  0.        ,  0.        ,\n",
       "         1.        ,  0.        ,  0.        ,  1.        ,  1.        ,\n",
       "         0.        ,  0.        ,  0.        ,  0.        ,  1.        ,\n",
       "        -0.43567715, -0.65272852, -1.19270998, -0.65094257],\n",
       "       [ 1.        ,  0.        ,  0.        ,  0.        ,  0.        ,\n",
       "         0.        ,  1.        ,  0.        ,  0.        ,  0.        ,\n",
       "         1.        ,  0.        ,  0.        ,  1.        ,  0.        ,\n",
       "         0.        ,  0.        ,  1.        ,  0.        ,  1.        ,\n",
       "         0.43811237, -0.65272852, -0.00589171, -0.4456736 ]])"
      ]
     },
     "execution_count": 36,
     "metadata": {},
     "output_type": "execute_result"
    }
   ],
   "source": [
    "scaler = preprocessing.StandardScaler().fit(X_train[:,start_num_idx:])\n",
    "X_train[:,start_num_idx:] = scaler.transform(X_train[:,start_num_idx:])\n",
    "X_test[:,start_num_idx:] = scaler.transform(X_test[:,start_num_idx:])\n",
    "print(X_train.shape)\n",
    "X_train[:3,]\n"
   ]
  },
  {
   "cell_type": "code",
   "execution_count": 37,
   "metadata": {},
   "outputs": [
    {
     "data": {
      "text/plain": [
       "LogisticRegression(class_weight='balanced', max_iter=1000)"
      ]
     },
     "execution_count": 37,
     "metadata": {},
     "output_type": "execute_result"
    }
   ],
   "source": [
    "logistic_mod = linear_model.LogisticRegression(class_weight='balanced',solver='lbfgs', max_iter=1000) \n",
    "logistic_mod.fit(X_train, y_train)"
   ]
  },
  {
   "cell_type": "code",
   "execution_count": 38,
   "metadata": {},
   "outputs": [
    {
     "name": "stdout",
     "output_type": "stream",
     "text": [
      "[-1.13731899]\n",
      "[[ 0.27809673  0.19324773 -0.13902518  0.07232251 -0.4020239  -0.07482105\n",
      "  -0.17302321 -0.01567378  0.09925737  0.16687856 -0.3325567   0.33517459\n",
      "  -0.76713411  0.769752    0.66351943  1.16311302  0.0669247  -1.89093927\n",
      "  -0.04817264  0.05079053  0.00579129  1.1778201  -0.12606007  0.39480699]]\n"
     ]
    }
   ],
   "source": [
    "print(logistic_mod.intercept_)\n",
    "print(logistic_mod.coef_)"
   ]
  },
  {
   "cell_type": "code",
   "execution_count": 39,
   "metadata": {},
   "outputs": [
    {
     "name": "stdout",
     "output_type": "stream",
     "text": [
      "[[0.94684075 0.05315925]\n",
      " [0.77946531 0.22053469]\n",
      " [0.46351327 0.53648673]\n",
      " [0.46787622 0.53212378]\n",
      " [0.09283975 0.90716025]\n",
      " [0.60787923 0.39212077]\n",
      " [0.35134434 0.64865566]\n",
      " [0.68135178 0.31864822]\n",
      " [0.62304582 0.37695418]\n",
      " [0.97932539 0.02067461]\n",
      " [0.21292933 0.78707067]\n",
      " [0.65430445 0.34569555]\n",
      " [0.20258336 0.79741664]\n",
      " [0.72267122 0.27732878]\n",
      " [0.91426803 0.08573197]]\n"
     ]
    }
   ],
   "source": [
    "probabilities = logistic_mod.predict_proba(X_test)\n",
    "print(probabilities[:15,:])"
   ]
  },
  {
   "cell_type": "code",
   "execution_count": 40,
   "metadata": {},
   "outputs": [
    {
     "name": "stdout",
     "output_type": "stream",
     "text": [
      "[0 0 1 1 1 0 1 0 0 0 1 0 1 0 0]\n",
      "[0 1 0 0 0 0 0 0 1 0 0 0 0 1 0]\n"
     ]
    }
   ],
   "source": [
    "def score_model(probs, threshold):\n",
    "    return np.array([1 if x > threshold else 0 for x in probs[:,1]])\n",
    "scores = score_model(probabilities, 0.5)\n",
    "print(np.array(scores[:15]))\n",
    "print(y_test[:15])"
   ]
  },
  {
   "cell_type": "code",
   "execution_count": 41,
   "metadata": {},
   "outputs": [
    {
     "name": "stdout",
     "output_type": "stream",
     "text": [
      "                 Confusion matrix\n",
      "                 Score positive    Score negative\n",
      "Actual positive      2527               742\n",
      "Actual negative       442              1211\n",
      "\n",
      "Accuracy  0.76\n",
      " \n",
      "           Positive      Negative\n",
      "Num case     3269          1653\n",
      "Precision    0.85          0.62\n",
      "Recall       0.77          0.73\n",
      "F1           0.81          0.67\n"
     ]
    }
   ],
   "source": [
    "def print_metrics(labels, scores):\n",
    "    metrics = sklm.precision_recall_fscore_support(labels, scores)\n",
    "    conf = sklm.confusion_matrix(labels, scores)\n",
    "    print('                 Confusion matrix')\n",
    "    print('                 Score positive    Score negative')\n",
    "    print('Actual positive    %6d' % conf[0,0] + '             %5d' % conf[0,1])\n",
    "    print('Actual negative    %6d' % conf[1,0] + '             %5d' % conf[1,1])\n",
    "    print('')\n",
    "    print('Accuracy  %0.2f' % sklm.accuracy_score(labels, scores))\n",
    "    print(' ')\n",
    "    print('           Positive      Negative')\n",
    "    print('Num case   %6d' % metrics[3][0] + '        %6d' % metrics[3][1])\n",
    "    print('Precision  %6.2f' % metrics[0][0] + '        %6.2f' % metrics[0][1])\n",
    "    print('Recall     %6.2f' % metrics[1][0] + '        %6.2f' % metrics[1][1])\n",
    "    print('F1         %6.2f' % metrics[2][0] + '        %6.2f' % metrics[2][1])\n",
    "\n",
    "\n",
    "    \n",
    "print_metrics(y_test, scores)    "
   ]
  },
  {
   "cell_type": "code",
   "execution_count": 42,
   "metadata": {},
   "outputs": [
    {
     "data": {
      "image/png": "[encoded data removed]",
      "text/plain": [
       "<Figure size 432x288 with 1 Axes>"
      ]
     },
     "metadata": {
      "needs_background": "light"
     },
     "output_type": "display_data"
    }
   ],
   "source": [
    "def plot_auc(labels, probs):\n",
    "    ## Compute the false positive rate, true positive rate\n",
    "    ## and threshold along with the AUC\n",
    "    fpr, tpr, threshold = sklm.roc_curve(labels, probs[:,1])\n",
    "    auc = sklm.auc(fpr, tpr)\n",
    "    \n",
    "    ## Plot the result\n",
    "    plt.title('Receiver Operating Characteristic')\n",
    "    plt.plot(fpr, tpr, color = 'orange', label = 'AUC = %0.2f' % auc)\n",
    "    plt.legend(loc = 'lower right')\n",
    "    plt.plot([0, 1], [0, 1],'r--')\n",
    "    plt.xlim([0, 1])\n",
    "    plt.ylim([0, 1])\n",
    "    plt.ylabel('True Positive Rate')\n",
    "    plt.xlabel('False Positive Rate')\n",
    "    plt.show()\n",
    "    \n",
    "plot_auc(y_test, probabilities)    "
   ]
  },
  {
   "cell_type": "code",
   "execution_count": 29,
   "metadata": {},
   "outputs": [
    {
     "name": "stdout",
     "output_type": "stream",
     "text": [
      "threshold value:  0.5\n",
      "                 Confusion matrix\n",
      "                 Score positive    Score negative\n",
      "Actual positive      2523               746\n",
      "Actual negative       441              1212\n",
      "\n",
      "Accuracy  0.76\n",
      " \n",
      "           Positive      Negative\n",
      "Num case     3269          1653\n",
      "Precision    0.85          0.62\n",
      "Recall       0.77          0.73\n",
      "F1           0.81          0.67\n"
     ]
    },
    {
     "data": {
      "image/png": "[encoded data removed]",
      "text/plain": [
       "<Figure size 432x288 with 1 Axes>"
      ]
     },
     "metadata": {
      "needs_background": "light"
     },
     "output_type": "display_data"
    }
   ],
   "source": [
    "threshold = 0.5\n",
    "print(\"threshold value: \", threshold)\n",
    "scores = score_model(probabilities, threshold)\n",
    "print_metrics(y_test, scores)  \n",
    "plot_auc(y_test, probabilities)\n"
   ]
  },
  {
   "cell_type": "code",
   "execution_count": 43,
   "metadata": {},
   "outputs": [
    {
     "name": "stdout",
     "output_type": "stream",
     "text": [
      "threshold value:  0.0\n",
      "                 Confusion matrix\n",
      "                 Score positive    Score negative\n",
      "Actual positive         0              3269\n",
      "Actual negative         0              1653\n",
      "\n",
      "Accuracy  0.34\n",
      " \n",
      "           Positive      Negative\n",
      "Num case     3269          1653\n",
      "Precision    0.00          0.34\n",
      "Recall       0.00          1.00\n",
      "F1           0.00          0.50\n",
      "--------------------------------------------------------------------------------\n",
      "threshold value:  0.1\n",
      "                 Confusion matrix\n",
      "                 Score positive    Score negative\n",
      "Actual positive       543              2726\n",
      "Actual negative         6              1647\n",
      "\n",
      "Accuracy  0.44\n",
      " \n",
      "           Positive      Negative\n",
      "Num case     3269          1653\n",
      "Precision    0.99          0.38\n",
      "Recall       0.17          1.00\n",
      "F1           0.28          0.55\n",
      "--------------------------------------------------------------------------------\n",
      "threshold value:  0.2\n",
      "                 Confusion matrix\n",
      "                 Score positive    Score negative\n",
      "Actual positive      1267              2002\n",
      "Actual negative        53              1600\n",
      "\n",
      "Accuracy  0.58\n",
      " \n",
      "           Positive      Negative\n",
      "Num case     3269          1653\n",
      "Precision    0.96          0.44\n",
      "Recall       0.39          0.97\n",
      "F1           0.55          0.61\n",
      "--------------------------------------------------------------------------------\n",
      "threshold value:  0.30000000000000004\n",
      "                 Confusion matrix\n",
      "                 Score positive    Score negative\n",
      "Actual positive      1847              1422\n",
      "Actual negative       165              1488\n",
      "\n",
      "Accuracy  0.68\n",
      " \n",
      "           Positive      Negative\n",
      "Num case     3269          1653\n",
      "Precision    0.92          0.51\n",
      "Recall       0.57          0.90\n",
      "F1           0.70          0.65\n",
      "--------------------------------------------------------------------------------\n",
      "threshold value:  0.4\n",
      "                 Confusion matrix\n",
      "                 Score positive    Score negative\n",
      "Actual positive      2236              1033\n",
      "Actual negative       319              1334\n",
      "\n",
      "Accuracy  0.73\n",
      " \n",
      "           Positive      Negative\n",
      "Num case     3269          1653\n",
      "Precision    0.88          0.56\n",
      "Recall       0.68          0.81\n",
      "F1           0.77          0.66\n",
      "--------------------------------------------------------------------------------\n",
      "threshold value:  0.5\n",
      "                 Confusion matrix\n",
      "                 Score positive    Score negative\n",
      "Actual positive      2527               742\n",
      "Actual negative       442              1211\n",
      "\n",
      "Accuracy  0.76\n",
      " \n",
      "           Positive      Negative\n",
      "Num case     3269          1653\n",
      "Precision    0.85          0.62\n",
      "Recall       0.77          0.73\n",
      "F1           0.81          0.67\n",
      "--------------------------------------------------------------------------------\n",
      "threshold value:  0.6000000000000001\n",
      "                 Confusion matrix\n",
      "                 Score positive    Score negative\n",
      "Actual positive      2812               457\n",
      "Actual negative       579              1074\n",
      "\n",
      "Accuracy  0.79\n",
      " \n",
      "           Positive      Negative\n",
      "Num case     3269          1653\n",
      "Precision    0.83          0.70\n",
      "Recall       0.86          0.65\n",
      "F1           0.84          0.67\n",
      "--------------------------------------------------------------------------------\n",
      "threshold value:  0.7000000000000001\n",
      "                 Confusion matrix\n",
      "                 Score positive    Score negative\n",
      "Actual positive      2983               286\n",
      "Actual negative       728               925\n",
      "\n",
      "Accuracy  0.79\n",
      " \n",
      "           Positive      Negative\n",
      "Num case     3269          1653\n",
      "Precision    0.80          0.76\n",
      "Recall       0.91          0.56\n",
      "F1           0.85          0.65\n",
      "--------------------------------------------------------------------------------\n",
      "threshold value:  0.8\n",
      "                 Confusion matrix\n",
      "                 Score positive    Score negative\n",
      "Actual positive      3113               156\n",
      "Actual negative       972               681\n",
      "\n",
      "Accuracy  0.77\n",
      " \n",
      "           Positive      Negative\n",
      "Num case     3269          1653\n",
      "Precision    0.76          0.81\n",
      "Recall       0.95          0.41\n",
      "F1           0.85          0.55\n",
      "--------------------------------------------------------------------------------\n",
      "threshold value:  0.9\n",
      "                 Confusion matrix\n",
      "                 Score positive    Score negative\n",
      "Actual positive      3222                47\n",
      "Actual negative      1255               398\n",
      "\n",
      "Accuracy  0.74\n",
      " \n",
      "           Positive      Negative\n",
      "Num case     3269          1653\n",
      "Precision    0.72          0.89\n",
      "Recall       0.99          0.24\n",
      "F1           0.83          0.38\n",
      "--------------------------------------------------------------------------------\n",
      "threshold value:  1.0\n",
      "                 Confusion matrix\n",
      "                 Score positive    Score negative\n",
      "Actual positive      3269                 0\n",
      "Actual negative      1653                 0\n",
      "\n",
      "Accuracy  0.66\n",
      " \n",
      "           Positive      Negative\n",
      "Num case     3269          1653\n",
      "Precision    0.66          0.00\n",
      "Recall       1.00          0.00\n",
      "F1           0.80          0.00\n",
      "--------------------------------------------------------------------------------\n"
     ]
    },
    {
     "name": "stderr",
     "output_type": "stream",
     "text": [
      "D:\\Project\\lib\\site-packages\\sklearn\\metrics\\_classification.py:1221: UndefinedMetricWarning: Precision and F-score are ill-defined and being set to 0.0 in labels with no predicted samples. Use `zero_division` parameter to control this behavior.\n",
      "  _warn_prf(average, modifier, msg_start, len(result))\n"
     ]
    }
   ],
   "source": [
    "from sklearn.metrics import f1_score\n",
    "#sklm.f1_score(y_test, y_pred, labels=np.unique(y_pred))\n",
    "\n",
    "thresholdList = np.arange(0,1.1,0.1)\n",
    "for threshold in thresholdList:\n",
    "    print(\"threshold value: \", threshold)\n",
    "    scores = score_model(probabilities, threshold)\n",
    "    print_metrics(y_test, scores)  \n",
    "    #plot_auc(y_test, probabilities)  \n",
    "    print(80*'-')\n"
   ]
  },
  {
   "cell_type": "code",
   "execution_count": 44,
   "metadata": {},
   "outputs": [
    {
     "name": "stdout",
     "output_type": "stream",
     "text": [
      "threshold value:  0.64\n",
      "                 Confusion matrix\n",
      "                 Score positive    Score negative\n",
      "Actual positive      2901               368\n",
      "Actual negative       626              1027\n",
      "\n",
      "Accuracy  0.80\n",
      " \n",
      "           Positive      Negative\n",
      "Num case     3269          1653\n",
      "Precision    0.82          0.74\n",
      "Recall       0.89          0.62\n",
      "F1           0.85          0.67\n"
     ]
    },
    {
     "data": {
      "image/png": "[encoded data removed]",
      "text/plain": [
       "<Figure size 432x288 with 1 Axes>"
      ]
     },
     "metadata": {
      "needs_background": "light"
     },
     "output_type": "display_data"
    }
   ],
   "source": [
    "threshold = 0.64\n",
    "print(\"threshold value: \", threshold)\n",
    "scores = score_model(probabilities, threshold)\n",
    "print_metrics(y_test, scores)  \n",
    "plot_auc(y_test, probabilities)  \n"
   ]
  },
  {
   "cell_type": "code",
   "execution_count": 45,
   "metadata": {},
   "outputs": [
    {
     "name": "stdout",
     "output_type": "stream",
     "text": [
      "                 Confusion matrix\n",
      "                 Score positive    Score negative\n",
      "Actual positive      3269                 0\n",
      "Actual negative      1653                 0\n",
      "\n",
      "Accuracy  0.66\n",
      " \n",
      "           Positive      Negative\n",
      "Num case     3269          1653\n",
      "Precision    0.66          0.00\n",
      "Recall       1.00          0.00\n",
      "F1           0.80          0.00\n"
     ]
    },
    {
     "name": "stderr",
     "output_type": "stream",
     "text": [
      "D:\\Project\\lib\\site-packages\\sklearn\\metrics\\_classification.py:1221: UndefinedMetricWarning: Precision and F-score are ill-defined and being set to 0.0 in labels with no predicted samples. Use `zero_division` parameter to control this behavior.\n",
      "  _warn_prf(average, modifier, msg_start, len(result))\n"
     ]
    },
    {
     "data": {
      "image/png": "[encoded data removed]",
      "text/plain": [
       "<Figure size 432x288 with 1 Axes>"
      ]
     },
     "metadata": {
      "needs_background": "light"
     },
     "output_type": "display_data"
    }
   ],
   "source": [
    "probs_positive = np.concatenate((np.ones((probabilities.shape[0], 1)), \n",
    "                                 np.zeros((probabilities.shape[0], 1))),\n",
    "                                 axis = 1)\n",
    "scores_positive = score_model(probs_positive, 0.5)\n",
    "print_metrics(y_test, scores_positive)  \n",
    "plot_auc(y_test, probs_positive) "
   ]
  },
  {
   "cell_type": "code",
   "execution_count": 46,
   "metadata": {},
   "outputs": [],
   "source": [
    "missing_value_formats=['n.a.','?','NA','n/a','na','--', 'null']\n",
    "aw_test = pd.read_csv('AW_test.csv', na_values=missing_value_formats)\n",
    "\n"
   ]
  },
  {
   "cell_type": "code",
   "execution_count": 47,
   "metadata": {},
   "outputs": [
    {
     "name": "stdout",
     "output_type": "stream",
     "text": [
      "(500, 23) Index(['CustomerID', 'Title', 'FirstName', 'MiddleName', 'LastName', 'Suffix',\n",
      "       'AddressLine1', 'AddressLine2', 'City', 'StateProvinceName',\n",
      "       'CountryRegionName', 'PostalCode', 'PhoneNumber', 'BirthDate',\n",
      "       'Education', 'Occupation', 'Gender', 'MaritalStatus', 'HomeOwnerFlag',\n",
      "       'NumberCarsOwned', 'NumberChildrenAtHome', 'TotalChildren',\n",
      "       'YearlyIncome'],\n",
      "      dtype='object')\n"
     ]
    }
   ],
   "source": [
    "aw_test.drop_duplicates(subset='CustomerID', keep='last', inplace=True)\n",
    "print(aw_test.shape, aw_test.columns)"
   ]
  },
  {
   "cell_type": "code",
   "execution_count": 48,
   "metadata": {},
   "outputs": [
    {
     "data": {
      "text/plain": [
       "CustomerID                0\n",
       "Title                   496\n",
       "FirstName                 0\n",
       "MiddleName              216\n",
       "LastName                  0\n",
       "Suffix                  499\n",
       "AddressLine1              0\n",
       "AddressLine2            487\n",
       "City                      0\n",
       "StateProvinceName         0\n",
       "CountryRegionName         0\n",
       "PostalCode                0\n",
       "PhoneNumber               0\n",
       "BirthDate                 0\n",
       "Education                 0\n",
       "Occupation                0\n",
       "Gender                    0\n",
       "MaritalStatus             0\n",
       "HomeOwnerFlag             0\n",
       "NumberCarsOwned           0\n",
       "NumberChildrenAtHome      0\n",
       "TotalChildren             0\n",
       "YearlyIncome              0\n",
       "dtype: int64"
      ]
     },
     "execution_count": 48,
     "metadata": {},
     "output_type": "execute_result"
    }
   ],
   "source": [
    "aw_test.isnull().sum()"
   ]
  },
  {
   "cell_type": "code",
   "execution_count": 49,
   "metadata": {},
   "outputs": [],
   "source": [
    "aw_test.drop(columns=['Title','MiddleName','Suffix','AddressLine2'], inplace=True)"
   ]
  },
  {
   "cell_type": "code",
   "execution_count": 50,
   "metadata": {},
   "outputs": [
    {
     "data": {
      "text/plain": [
       "CustomerID              0\n",
       "FirstName               0\n",
       "LastName                0\n",
       "AddressLine1            0\n",
       "City                    0\n",
       "StateProvinceName       0\n",
       "CountryRegionName       0\n",
       "PostalCode              0\n",
       "PhoneNumber             0\n",
       "BirthDate               0\n",
       "Education               0\n",
       "Occupation              0\n",
       "Gender                  0\n",
       "MaritalStatus           0\n",
       "HomeOwnerFlag           0\n",
       "NumberCarsOwned         0\n",
       "NumberChildrenAtHome    0\n",
       "TotalChildren           0\n",
       "YearlyIncome            0\n",
       "dtype: int64"
      ]
     },
     "execution_count": 50,
     "metadata": {},
     "output_type": "execute_result"
    }
   ],
   "source": [
    "aw_test.isnull().sum()\n"
   ]
  },
  {
   "cell_type": "code",
   "execution_count": 51,
   "metadata": {},
   "outputs": [],
   "source": [
    "def convert_bdate_age(birthDate, collectionDate):\n",
    "    \n",
    "    diff = collectionDate - birthDate\n",
    "    age = diff.dt.days.div(365).astype(int)\n",
    "    return age\n",
    "aw_cDate = pd.to_datetime('1998-01-01')\n",
    "aw_test['BirthDate'] = pd.to_datetime(df['BirthDate'])    \n",
    "aw_bDate = aw_test['BirthDate']\n",
    "aw_age = convert_bdate_age(aw_bDate, aw_cDate)\n",
    "aw_test['age'] = aw_age\n"
   ]
  },
  {
   "cell_type": "code",
   "execution_count": 52,
   "metadata": {},
   "outputs": [
    {
     "name": "stdout",
     "output_type": "stream",
     "text": [
      "     CustomerID  FirstName  LastName                   AddressLine1  \\\n",
      "0         18988   Courtney     Baker          8727 Buena Vista Ave.   \n",
      "1         29135       Adam     Allen               3491 Cook Street   \n",
      "2         12156     Bonnie      Raji           359 Pleasant Hill Rd   \n",
      "3         13749      Julio    Alonso               8945 Euclid Ave.   \n",
      "4         27780    Christy  Andersen         42, boulevard Tremblay   \n",
      "..          ...        ...       ...                            ...   \n",
      "495       24211     Sharon      Shan               5850 Westwood Dr   \n",
      "496       23627   Adrienne   Navarro  Buergermeister-ulrich-str 900   \n",
      "497       14500    Jasmine      Ward            1707 Willowwood Ct.   \n",
      "498       22223  Gabrielle    Parker              6857 Medina Drive   \n",
      "499       29068  Cassandra     Madan          9409 Cedar Point Loop   \n",
      "\n",
      "             City StateProvinceName CountryRegionName PostalCode  \\\n",
      "0         Fremont        California     United States      94536   \n",
      "1           Haney  British Columbia            Canada    V2W 1W2   \n",
      "2         Burbank        California     United States      91502   \n",
      "3      Burlingame        California     United States      94010   \n",
      "4       Dunkerque              Nord            France      59140   \n",
      "..            ...               ...               ...        ...   \n",
      "495  Peterborough           England    United Kingdom       PB12   \n",
      "496      Erlangen            Bayern           Germany      91054   \n",
      "497      Torrance        California     United States      90505   \n",
      "498   Mill Valley        California     United States      94941   \n",
      "499    Matraville   New South Wales         Australia       2036   \n",
      "\n",
      "             PhoneNumber  BirthDate  ...      Occupation Gender MaritalStatus  \\\n",
      "0           133-555-0128 1966-04-08  ...      Management      F             S   \n",
      "1           252-555-0173 1965-05-14  ...  Skilled Manual      M             M   \n",
      "2           409-555-0193 1965-08-12  ...      Management      F             M   \n",
      "3           175-555-0196 1968-02-15  ...  Skilled Manual      M             M   \n",
      "4    1 (11) 500 555-0122 1968-08-08  ...          Manual      F             M   \n",
      "..                   ...        ...  ...             ...    ...           ...   \n",
      "495  1 (11) 500 555-0145 1968-02-17  ...  Skilled Manual      F             S   \n",
      "496  1 (11) 500 555-0123 1968-05-07  ...      Management      F             S   \n",
      "497         202-555-0117 1968-03-25  ...      Management      F             S   \n",
      "498         213-555-0111 1968-03-08  ...    Professional      F             M   \n",
      "499  1 (11) 500 555-0129 1968-10-12  ...  Skilled Manual      F             S   \n",
      "\n",
      "    HomeOwnerFlag  NumberCarsOwned  NumberChildrenAtHome  TotalChildren  \\\n",
      "0               0                2                     0              5   \n",
      "1               1                2                     2              4   \n",
      "2               1                2                     0              4   \n",
      "3               1                0                     0              4   \n",
      "4               1                1                     2              2   \n",
      "..            ...              ...                   ...            ...   \n",
      "495             0                0                     0              0   \n",
      "496             0                4                     4              4   \n",
      "497             0                4                     3              3   \n",
      "498             1                1                     0              2   \n",
      "499             0                2                     0              4   \n",
      "\n",
      "     YearlyIncome  age  agegroup  \n",
      "0           86931   31     25-45  \n",
      "1          100125   32     25-45  \n",
      "2          103985   32     25-45  \n",
      "3          127161   29     25-45  \n",
      "4           21876   29     25-45  \n",
      "..            ...  ...       ...  \n",
      "495         97084   29     25-45  \n",
      "496        110762   29     25-45  \n",
      "497        138097   29     25-45  \n",
      "498        101465   29     25-45  \n",
      "499         19108   29     25-45  \n",
      "\n",
      "[500 rows x 21 columns]\n"
     ]
    }
   ],
   "source": [
    "bins=[0,25,45,55,120]\n",
    "label=['0-25','25-45','45-55','55-120']\n",
    "aw_ageCats = pd.cut(aw_test['age'], bins=bins, labels=label)\n",
    "aw_test['agegroup'] = aw_ageCats\n",
    "print(aw_test)"
   ]
  },
  {
   "cell_type": "code",
   "execution_count": 53,
   "metadata": {},
   "outputs": [
    {
     "data": {
      "text/plain": [
       "Index(['Unnamed: 0', 'CustomerID', 'FirstName', 'LastName', 'AddressLine1',\n",
       "       'City', 'StateProvinceName', 'CountryRegionName', 'PostalCode',\n",
       "       'PhoneNumber', 'BirthDate', 'Education', 'Occupation', 'Gender',\n",
       "       'MaritalStatus', 'HomeOwnerFlag', 'NumberCarsOwned',\n",
       "       'NumberChildrenAtHome', 'TotalChildren', 'YearlyIncome', 'age',\n",
       "       'agegroup'],\n",
       "      dtype='object')"
      ]
     },
     "execution_count": 53,
     "metadata": {},
     "output_type": "execute_result"
    }
   ],
   "source": [
    "aw_test.to_csv('clean_aw_test.csv')\n",
    "aw_test = pd.read_csv('clean_aw_test.csv')\n",
    "aw_test.columns  #there are NO "
   ]
  },
  {
   "cell_type": "code",
   "execution_count": null,
   "metadata": {},
   "outputs": [],
   "source": []
  },
  {
   "cell_type": "code",
   "execution_count": 54,
   "metadata": {},
   "outputs": [
    {
     "name": "stdout",
     "output_type": "stream",
     "text": [
      "Education (500, 5)\n",
      "Occupation (500, 5)\n",
      "Gender (500, 2)\n",
      "MaritalStatus (500, 2)\n",
      "agegroup (500, 4)\n",
      "HomeOwnerFlag (500, 2)\n",
      "(500, 20)\n",
      "[[1. 0. 0. 0. 0. 0. 1. 0. 0. 0. 1. 0. 0. 1. 0. 1. 0. 0. 1. 0.]\n",
      " [1. 0. 0. 0. 0. 0. 0. 0. 0. 1. 0. 1. 1. 0. 0. 1. 0. 0. 0. 1.]]\n"
     ]
    }
   ],
   "source": [
    "# create a list of empty lists to store features\n",
    "aw_alist = [ [] for _ in range(aw_test.shape[0]) ]\n",
    "aw_Features = np.array(aw_alist)\n",
    "\n",
    "for col in cat_columns:\n",
    "    temp = encode_string(aw_test[col])\n",
    "    print(col,temp.shape)\n",
    "    aw_Features = np.concatenate([aw_Features, temp], axis = 1)\n",
    "    \n",
    "aw_start_num_idx = aw_Features.shape[1] \n",
    "\n",
    "print(aw_Features.shape)\n",
    "print(aw_Features[:2, :])   # first two sample rows \n",
    "\n",
    "   \n"
   ]
  },
  {
   "cell_type": "code",
   "execution_count": 55,
   "metadata": {},
   "outputs": [
    {
     "data": {
      "text/plain": [
       "(500, 24)"
      ]
     },
     "execution_count": 55,
     "metadata": {},
     "output_type": "execute_result"
    }
   ],
   "source": [
    "aw_Features = np.concatenate([aw_Features, np.array(aw_test[numerical_columns])], axis = 1)\n",
    "aw_Features[:2,:]\n",
    "aw_Features.shape\n",
    "\n"
   ]
  },
  {
   "cell_type": "code",
   "execution_count": 56,
   "metadata": {},
   "outputs": [
    {
     "name": "stdout",
     "output_type": "stream",
     "text": [
      "(500, 24)\n"
     ]
    },
    {
     "data": {
      "text/plain": [
       "array([[ 1.        ,  0.        ,  0.        ,  0.        ,  0.        ,\n",
       "         0.        ,  1.        ,  0.        ,  0.        ,  0.        ,\n",
       "         1.        ,  0.        ,  0.        ,  1.        ,  0.        ,\n",
       "         1.        ,  0.        ,  0.        ,  1.        ,  0.        ,\n",
       "         0.35928859, -0.72107754,  1.6591036 ,  0.12653132],\n",
       "       [ 1.        ,  0.        ,  0.        ,  0.        ,  0.        ,\n",
       "         0.        ,  0.        ,  0.        ,  0.        ,  1.        ,\n",
       "         0.        ,  1.        ,  1.        ,  0.        ,  0.        ,\n",
       "         1.        ,  0.        ,  0.        ,  0.        ,  1.        ,\n",
       "         0.35928859,  0.53297036,  1.06909521,  0.45161083],\n",
       "       [ 0.        ,  1.        ,  0.        ,  0.        ,  0.        ,\n",
       "         0.        ,  1.        ,  0.        ,  0.        ,  0.        ,\n",
       "         1.        ,  0.        ,  1.        ,  0.        ,  0.        ,\n",
       "         1.        ,  0.        ,  0.        ,  0.        ,  1.        ,\n",
       "         0.35928859, -0.72107754,  1.06909521,  0.54671519]])"
      ]
     },
     "execution_count": 56,
     "metadata": {},
     "output_type": "execute_result"
    }
   ],
   "source": [
    "\n",
    "aw_scaler = preprocessing.StandardScaler().fit(aw_Features[:,aw_start_num_idx:])\n",
    "aw_Features[:,aw_start_num_idx:] = aw_scaler.transform(aw_Features[:,aw_start_num_idx:])\n",
    "print(aw_Features.shape)\n",
    "aw_Features[:3,:]\n"
   ]
  },
  {
   "cell_type": "code",
   "execution_count": 58,
   "metadata": {},
   "outputs": [],
   "source": [
    "aw_probabilities = logistic_mod.predict_proba(aw_Features)\n",
    "aw_scores = score_model(aw_probabilities, threshold)\n",
    "pd_scores = pd.Series(aw_scores)\n",
    "pd_id = aw_test['CustomerID']\n",
    "newdf = pd.concat([pd_id, pd_scores], axis=1)\n",
    "newdf.reset_index()\n",
    "np.savetxt('ClassificationResults.csv', newdf, delimiter=',', fmt='%d')\n"
   ]
  },
  {
   "cell_type": "code",
   "execution_count": null,
   "metadata": {},
   "outputs": [],
   "source": []
  },
  {
   "cell_type": "code",
   "execution_count": null,
   "metadata": {},
   "outputs": [],
   "source": []
  },
  {
   "cell_type": "code",
   "execution_count": null,
   "metadata": {},
   "outputs": [],
   "source": []
  },
  {
   "cell_type": "code",
   "execution_count": null,
   "metadata": {},
   "outputs": [],
   "source": []
  },
  {
   "cell_type": "code",
   "execution_count": null,
   "metadata": {},
   "outputs": [],
   "source": []
  },
  {
   "cell_type": "code",
   "execution_count": null,
   "metadata": {},
   "outputs": [],
   "source": []
  },
  {
   "cell_type": "code",
   "execution_count": null,
   "metadata": {},
   "outputs": [],
   "source": []
  }
 ],
 "metadata": {
  "kernelspec": {
   "display_name": "Python 3",
   "language": "python",
   "name": "python3"
  },
  "language_info": {
   "codemirror_mode": {
    "name": "ipython",
    "version": 3
   },
   "file_extension": ".py",
   "mimetype": "text/x-python",
   "name": "python",
   "nbconvert_exporter": "python",
   "pygments_lexer": "ipython3",
   "version": "3.8.5"
  }
 },
 "nbformat": 4,
 "nbformat_minor": 4
}
