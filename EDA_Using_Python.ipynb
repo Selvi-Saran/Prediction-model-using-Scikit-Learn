{
 "cells": [
  {
   "cell_type": "code",
   "execution_count": 16,
   "metadata": {},
   "outputs": [],
   "source": [
    "#import libraries\n",
    "import pandas as pd\n",
    "import matplotlib.pyplot as plt\n",
    "import seaborn as sns\n",
    "import numpy as np\n",
    "import numpy.random as nr\n",
    "import math\n",
    "\n",
    "%matplotlib inline"
   ]
  },
  {
   "cell_type": "code",
   "execution_count": 17,
   "metadata": {},
   "outputs": [
    {
     "data": {
      "text/html": [
       "<div>\n",
       "<style scoped>\n",
       "    .dataframe tbody tr th:only-of-type {\n",
       "        vertical-align: middle;\n",
       "    }\n",
       "\n",
       "    .dataframe tbody tr th {\n",
       "        vertical-align: top;\n",
       "    }\n",
       "\n",
       "    .dataframe thead th {\n",
       "        text-align: right;\n",
       "    }\n",
       "</style>\n",
       "<table border=\"1\" class=\"dataframe\">\n",
       "  <thead>\n",
       "    <tr style=\"text-align: right;\">\n",
       "      <th></th>\n",
       "      <th>CustomerID</th>\n",
       "      <th>Title</th>\n",
       "      <th>FirstName</th>\n",
       "      <th>MiddleName</th>\n",
       "      <th>LastName</th>\n",
       "      <th>Suffix</th>\n",
       "      <th>AddressLine1</th>\n",
       "      <th>AddressLine2</th>\n",
       "      <th>City</th>\n",
       "      <th>StateProvinceName</th>\n",
       "      <th>...</th>\n",
       "      <th>Occupation</th>\n",
       "      <th>Gender</th>\n",
       "      <th>MaritalStatus</th>\n",
       "      <th>HomeOwnerFlag</th>\n",
       "      <th>NumberCarsOwned</th>\n",
       "      <th>NumberChildrenAtHome</th>\n",
       "      <th>TotalChildren</th>\n",
       "      <th>YearlyIncome</th>\n",
       "      <th>BikeBuyer</th>\n",
       "      <th>AveMonthSpend</th>\n",
       "    </tr>\n",
       "  </thead>\n",
       "  <tbody>\n",
       "    <tr>\n",
       "      <th>0</th>\n",
       "      <td>11000</td>\n",
       "      <td>NaN</td>\n",
       "      <td>Jon</td>\n",
       "      <td>V</td>\n",
       "      <td>Yang</td>\n",
       "      <td>NaN</td>\n",
       "      <td>3761 N. 14th St</td>\n",
       "      <td>NaN</td>\n",
       "      <td>Rockhampton</td>\n",
       "      <td>Queensland</td>\n",
       "      <td>...</td>\n",
       "      <td>Professional</td>\n",
       "      <td>M</td>\n",
       "      <td>M</td>\n",
       "      <td>1</td>\n",
       "      <td>0</td>\n",
       "      <td>0</td>\n",
       "      <td>2</td>\n",
       "      <td>137947</td>\n",
       "      <td>0</td>\n",
       "      <td>89</td>\n",
       "    </tr>\n",
       "    <tr>\n",
       "      <th>1</th>\n",
       "      <td>11001</td>\n",
       "      <td>NaN</td>\n",
       "      <td>Eugene</td>\n",
       "      <td>L</td>\n",
       "      <td>Huang</td>\n",
       "      <td>NaN</td>\n",
       "      <td>2243 W St.</td>\n",
       "      <td>NaN</td>\n",
       "      <td>Seaford</td>\n",
       "      <td>Victoria</td>\n",
       "      <td>...</td>\n",
       "      <td>Professional</td>\n",
       "      <td>M</td>\n",
       "      <td>S</td>\n",
       "      <td>0</td>\n",
       "      <td>1</td>\n",
       "      <td>3</td>\n",
       "      <td>3</td>\n",
       "      <td>101141</td>\n",
       "      <td>1</td>\n",
       "      <td>117</td>\n",
       "    </tr>\n",
       "    <tr>\n",
       "      <th>2</th>\n",
       "      <td>11002</td>\n",
       "      <td>NaN</td>\n",
       "      <td>Ruben</td>\n",
       "      <td>NaN</td>\n",
       "      <td>Torres</td>\n",
       "      <td>NaN</td>\n",
       "      <td>5844 Linden Land</td>\n",
       "      <td>NaN</td>\n",
       "      <td>Hobart</td>\n",
       "      <td>Tasmania</td>\n",
       "      <td>...</td>\n",
       "      <td>Professional</td>\n",
       "      <td>M</td>\n",
       "      <td>M</td>\n",
       "      <td>1</td>\n",
       "      <td>1</td>\n",
       "      <td>3</td>\n",
       "      <td>3</td>\n",
       "      <td>91945</td>\n",
       "      <td>0</td>\n",
       "      <td>123</td>\n",
       "    </tr>\n",
       "    <tr>\n",
       "      <th>3</th>\n",
       "      <td>11003</td>\n",
       "      <td>NaN</td>\n",
       "      <td>Christy</td>\n",
       "      <td>NaN</td>\n",
       "      <td>Zhu</td>\n",
       "      <td>NaN</td>\n",
       "      <td>1825 Village Pl.</td>\n",
       "      <td>NaN</td>\n",
       "      <td>North Ryde</td>\n",
       "      <td>New South Wales</td>\n",
       "      <td>...</td>\n",
       "      <td>Professional</td>\n",
       "      <td>F</td>\n",
       "      <td>S</td>\n",
       "      <td>0</td>\n",
       "      <td>1</td>\n",
       "      <td>0</td>\n",
       "      <td>0</td>\n",
       "      <td>86688</td>\n",
       "      <td>0</td>\n",
       "      <td>50</td>\n",
       "    </tr>\n",
       "    <tr>\n",
       "      <th>4</th>\n",
       "      <td>11004</td>\n",
       "      <td>NaN</td>\n",
       "      <td>Elizabeth</td>\n",
       "      <td>NaN</td>\n",
       "      <td>Johnson</td>\n",
       "      <td>NaN</td>\n",
       "      <td>7553 Harness Circle</td>\n",
       "      <td>NaN</td>\n",
       "      <td>Wollongong</td>\n",
       "      <td>New South Wales</td>\n",
       "      <td>...</td>\n",
       "      <td>Professional</td>\n",
       "      <td>F</td>\n",
       "      <td>S</td>\n",
       "      <td>1</td>\n",
       "      <td>4</td>\n",
       "      <td>5</td>\n",
       "      <td>5</td>\n",
       "      <td>92771</td>\n",
       "      <td>1</td>\n",
       "      <td>95</td>\n",
       "    </tr>\n",
       "  </tbody>\n",
       "</table>\n",
       "<p>5 rows × 25 columns</p>\n",
       "</div>"
      ],
      "text/plain": [
       "   CustomerID Title  FirstName MiddleName LastName Suffix  \\\n",
       "0       11000   NaN        Jon          V     Yang    NaN   \n",
       "1       11001   NaN     Eugene          L    Huang    NaN   \n",
       "2       11002   NaN      Ruben        NaN   Torres    NaN   \n",
       "3       11003   NaN    Christy        NaN      Zhu    NaN   \n",
       "4       11004   NaN  Elizabeth        NaN  Johnson    NaN   \n",
       "\n",
       "          AddressLine1 AddressLine2         City StateProvinceName  ...  \\\n",
       "0      3761 N. 14th St          NaN  Rockhampton        Queensland  ...   \n",
       "1           2243 W St.          NaN      Seaford          Victoria  ...   \n",
       "2     5844 Linden Land          NaN       Hobart          Tasmania  ...   \n",
       "3     1825 Village Pl.          NaN   North Ryde   New South Wales  ...   \n",
       "4  7553 Harness Circle          NaN   Wollongong   New South Wales  ...   \n",
       "\n",
       "     Occupation Gender MaritalStatus HomeOwnerFlag NumberCarsOwned  \\\n",
       "0  Professional      M             M             1               0   \n",
       "1  Professional      M             S             0               1   \n",
       "2  Professional      M             M             1               1   \n",
       "3  Professional      F             S             0               1   \n",
       "4  Professional      F             S             1               4   \n",
       "\n",
       "  NumberChildrenAtHome TotalChildren YearlyIncome  BikeBuyer  AveMonthSpend  \n",
       "0                    0             2       137947          0             89  \n",
       "1                    3             3       101141          1            117  \n",
       "2                    3             3        91945          0            123  \n",
       "3                    0             0        86688          0             50  \n",
       "4                    5             5        92771          1             95  \n",
       "\n",
       "[5 rows x 25 columns]"
      ]
     },
     "execution_count": 17,
     "metadata": {},
     "output_type": "execute_result"
    }
   ],
   "source": [
    "missing_value_formats=['n.a.','?','NA','n/a','na','--', 'null']\n",
    "\n",
    "#read the datasets\n",
    "a=pd.read_csv(\"AW_BikeBuyer.csv\",na_values=missing_value_formats)\n",
    "b=pd.read_csv(\"AW_AveMonthSpend.csv\",na_values=missing_value_formats)\n",
    "c=pd.read_csv(\"AdvWorksCusts.csv\",na_values=missing_value_formats)\n",
    "\n",
    "#merge AdvWorksCusts.csv and AW_BikeBuyer.csv\n",
    "merge_1=c.merge(a,on='CustomerID',how='left')\n",
    "\n",
    "#merge merge_1(Data frame and AW_AveMonthSpend.csv)\n",
    "merge_2=merge_1.merge(b,on='CustomerID',how='left')\n",
    "\n",
    "merge_2.head()"
   ]
  },
  {
   "cell_type": "code",
   "execution_count": 18,
   "metadata": {
    "scrolled": true
   },
   "outputs": [
    {
     "data": {
      "text/plain": [
       "CustomerID               int64\n",
       "Title                   object\n",
       "FirstName               object\n",
       "MiddleName              object\n",
       "LastName                object\n",
       "Suffix                  object\n",
       "AddressLine1            object\n",
       "AddressLine2            object\n",
       "City                    object\n",
       "StateProvinceName       object\n",
       "CountryRegionName       object\n",
       "PostalCode              object\n",
       "PhoneNumber             object\n",
       "BirthDate               object\n",
       "Education               object\n",
       "Occupation              object\n",
       "Gender                  object\n",
       "MaritalStatus           object\n",
       "HomeOwnerFlag            int64\n",
       "NumberCarsOwned          int64\n",
       "NumberChildrenAtHome     int64\n",
       "TotalChildren            int64\n",
       "YearlyIncome             int64\n",
       "BikeBuyer                int64\n",
       "AveMonthSpend            int64\n",
       "dtype: object"
      ]
     },
     "execution_count": 18,
     "metadata": {},
     "output_type": "execute_result"
    }
   ],
   "source": [
    "merge_2.dtypes"
   ]
  },
  {
   "cell_type": "code",
   "execution_count": 19,
   "metadata": {},
   "outputs": [
    {
     "name": "stdout",
     "output_type": "stream",
     "text": [
      "(17209, 25)\n",
      "(16404,)\n"
     ]
    }
   ],
   "source": [
    "print(merge_2.shape)\n",
    "print(merge_2.CustomerID.unique().shape)"
   ]
  },
  {
   "cell_type": "code",
   "execution_count": 20,
   "metadata": {},
   "outputs": [
    {
     "name": "stdout",
     "output_type": "stream",
     "text": [
      "(16404, 25)\n",
      "(16404,)\n"
     ]
    },
    {
     "data": {
      "text/html": [
       "<div>\n",
       "<style scoped>\n",
       "    .dataframe tbody tr th:only-of-type {\n",
       "        vertical-align: middle;\n",
       "    }\n",
       "\n",
       "    .dataframe tbody tr th {\n",
       "        vertical-align: top;\n",
       "    }\n",
       "\n",
       "    .dataframe thead th {\n",
       "        text-align: right;\n",
       "    }\n",
       "</style>\n",
       "<table border=\"1\" class=\"dataframe\">\n",
       "  <thead>\n",
       "    <tr style=\"text-align: right;\">\n",
       "      <th></th>\n",
       "      <th>CustomerID</th>\n",
       "      <th>Title</th>\n",
       "      <th>FirstName</th>\n",
       "      <th>MiddleName</th>\n",
       "      <th>LastName</th>\n",
       "      <th>Suffix</th>\n",
       "      <th>AddressLine1</th>\n",
       "      <th>AddressLine2</th>\n",
       "      <th>City</th>\n",
       "      <th>StateProvinceName</th>\n",
       "      <th>...</th>\n",
       "      <th>Occupation</th>\n",
       "      <th>Gender</th>\n",
       "      <th>MaritalStatus</th>\n",
       "      <th>HomeOwnerFlag</th>\n",
       "      <th>NumberCarsOwned</th>\n",
       "      <th>NumberChildrenAtHome</th>\n",
       "      <th>TotalChildren</th>\n",
       "      <th>YearlyIncome</th>\n",
       "      <th>BikeBuyer</th>\n",
       "      <th>AveMonthSpend</th>\n",
       "    </tr>\n",
       "  </thead>\n",
       "  <tbody>\n",
       "    <tr>\n",
       "      <th>0</th>\n",
       "      <td>11000</td>\n",
       "      <td>NaN</td>\n",
       "      <td>Jon</td>\n",
       "      <td>V</td>\n",
       "      <td>Yang</td>\n",
       "      <td>NaN</td>\n",
       "      <td>3761 N. 14th St</td>\n",
       "      <td>NaN</td>\n",
       "      <td>Rockhampton</td>\n",
       "      <td>Queensland</td>\n",
       "      <td>...</td>\n",
       "      <td>Professional</td>\n",
       "      <td>M</td>\n",
       "      <td>M</td>\n",
       "      <td>1</td>\n",
       "      <td>0</td>\n",
       "      <td>0</td>\n",
       "      <td>2</td>\n",
       "      <td>137947</td>\n",
       "      <td>0</td>\n",
       "      <td>89</td>\n",
       "    </tr>\n",
       "    <tr>\n",
       "      <th>1</th>\n",
       "      <td>11001</td>\n",
       "      <td>NaN</td>\n",
       "      <td>Eugene</td>\n",
       "      <td>L</td>\n",
       "      <td>Huang</td>\n",
       "      <td>NaN</td>\n",
       "      <td>2243 W St.</td>\n",
       "      <td>NaN</td>\n",
       "      <td>Seaford</td>\n",
       "      <td>Victoria</td>\n",
       "      <td>...</td>\n",
       "      <td>Professional</td>\n",
       "      <td>M</td>\n",
       "      <td>S</td>\n",
       "      <td>0</td>\n",
       "      <td>1</td>\n",
       "      <td>3</td>\n",
       "      <td>3</td>\n",
       "      <td>101141</td>\n",
       "      <td>1</td>\n",
       "      <td>117</td>\n",
       "    </tr>\n",
       "    <tr>\n",
       "      <th>2</th>\n",
       "      <td>11002</td>\n",
       "      <td>NaN</td>\n",
       "      <td>Ruben</td>\n",
       "      <td>NaN</td>\n",
       "      <td>Torres</td>\n",
       "      <td>NaN</td>\n",
       "      <td>5844 Linden Land</td>\n",
       "      <td>NaN</td>\n",
       "      <td>Hobart</td>\n",
       "      <td>Tasmania</td>\n",
       "      <td>...</td>\n",
       "      <td>Professional</td>\n",
       "      <td>M</td>\n",
       "      <td>M</td>\n",
       "      <td>1</td>\n",
       "      <td>1</td>\n",
       "      <td>3</td>\n",
       "      <td>3</td>\n",
       "      <td>91945</td>\n",
       "      <td>0</td>\n",
       "      <td>123</td>\n",
       "    </tr>\n",
       "    <tr>\n",
       "      <th>3</th>\n",
       "      <td>11003</td>\n",
       "      <td>NaN</td>\n",
       "      <td>Christy</td>\n",
       "      <td>NaN</td>\n",
       "      <td>Zhu</td>\n",
       "      <td>NaN</td>\n",
       "      <td>1825 Village Pl.</td>\n",
       "      <td>NaN</td>\n",
       "      <td>North Ryde</td>\n",
       "      <td>New South Wales</td>\n",
       "      <td>...</td>\n",
       "      <td>Professional</td>\n",
       "      <td>F</td>\n",
       "      <td>S</td>\n",
       "      <td>0</td>\n",
       "      <td>1</td>\n",
       "      <td>0</td>\n",
       "      <td>0</td>\n",
       "      <td>86688</td>\n",
       "      <td>0</td>\n",
       "      <td>50</td>\n",
       "    </tr>\n",
       "    <tr>\n",
       "      <th>4</th>\n",
       "      <td>11004</td>\n",
       "      <td>NaN</td>\n",
       "      <td>Elizabeth</td>\n",
       "      <td>NaN</td>\n",
       "      <td>Johnson</td>\n",
       "      <td>NaN</td>\n",
       "      <td>7553 Harness Circle</td>\n",
       "      <td>NaN</td>\n",
       "      <td>Wollongong</td>\n",
       "      <td>New South Wales</td>\n",
       "      <td>...</td>\n",
       "      <td>Professional</td>\n",
       "      <td>F</td>\n",
       "      <td>S</td>\n",
       "      <td>1</td>\n",
       "      <td>4</td>\n",
       "      <td>5</td>\n",
       "      <td>5</td>\n",
       "      <td>92771</td>\n",
       "      <td>1</td>\n",
       "      <td>95</td>\n",
       "    </tr>\n",
       "  </tbody>\n",
       "</table>\n",
       "<p>5 rows × 25 columns</p>\n",
       "</div>"
      ],
      "text/plain": [
       "   CustomerID Title  FirstName MiddleName LastName Suffix  \\\n",
       "0       11000   NaN        Jon          V     Yang    NaN   \n",
       "1       11001   NaN     Eugene          L    Huang    NaN   \n",
       "2       11002   NaN      Ruben        NaN   Torres    NaN   \n",
       "3       11003   NaN    Christy        NaN      Zhu    NaN   \n",
       "4       11004   NaN  Elizabeth        NaN  Johnson    NaN   \n",
       "\n",
       "          AddressLine1 AddressLine2         City StateProvinceName  ...  \\\n",
       "0      3761 N. 14th St          NaN  Rockhampton        Queensland  ...   \n",
       "1           2243 W St.          NaN      Seaford          Victoria  ...   \n",
       "2     5844 Linden Land          NaN       Hobart          Tasmania  ...   \n",
       "3     1825 Village Pl.          NaN   North Ryde   New South Wales  ...   \n",
       "4  7553 Harness Circle          NaN   Wollongong   New South Wales  ...   \n",
       "\n",
       "     Occupation Gender MaritalStatus HomeOwnerFlag NumberCarsOwned  \\\n",
       "0  Professional      M             M             1               0   \n",
       "1  Professional      M             S             0               1   \n",
       "2  Professional      M             M             1               1   \n",
       "3  Professional      F             S             0               1   \n",
       "4  Professional      F             S             1               4   \n",
       "\n",
       "  NumberChildrenAtHome TotalChildren YearlyIncome  BikeBuyer  AveMonthSpend  \n",
       "0                    0             2       137947          0             89  \n",
       "1                    3             3       101141          1            117  \n",
       "2                    3             3        91945          0            123  \n",
       "3                    0             0        86688          0             50  \n",
       "4                    5             5        92771          1             95  \n",
       "\n",
       "[5 rows x 25 columns]"
      ]
     },
     "execution_count": 20,
     "metadata": {},
     "output_type": "execute_result"
    }
   ],
   "source": [
    "#remove duplicates\n",
    "merge_2.drop_duplicates(subset = 'CustomerID', keep = 'first', inplace = True)\n",
    "print(merge_2.shape)\n",
    "print(merge_2.CustomerID.unique().shape)\n",
    "merge_2.head()\n",
    "#merge_2.drop_duplicates()"
   ]
  },
  {
   "cell_type": "code",
   "execution_count": 21,
   "metadata": {},
   "outputs": [
    {
     "data": {
      "text/plain": [
       "count    16404.000000\n",
       "mean        72.389905\n",
       "std         27.269568\n",
       "min         22.000000\n",
       "25%         52.000000\n",
       "50%         68.000000\n",
       "75%         84.000000\n",
       "max        176.000000\n",
       "Name: AveMonthSpend, dtype: float64"
      ]
     },
     "execution_count": 21,
     "metadata": {},
     "output_type": "execute_result"
    }
   ],
   "source": [
    "#data exploration\n",
    "merge_2['AveMonthSpend'].describe()"
   ]
  },
  {
   "cell_type": "code",
   "execution_count": 22,
   "metadata": {},
   "outputs": [
    {
     "data": {
      "text/plain": [
       "['Title', 'MiddleName', 'Suffix', 'AddressLine2']"
      ]
     },
     "execution_count": 22,
     "metadata": {},
     "output_type": "execute_result"
    }
   ],
   "source": [
    "#find null columns\n",
    "[col for col in merge_2.columns if merge_2[col].isnull().any()]"
   ]
  },
  {
   "cell_type": "code",
   "execution_count": 23,
   "metadata": {},
   "outputs": [],
   "source": [
    "merge_2.drop(columns=['Title', 'MiddleName', 'Suffix', 'AddressLine2'],inplace=True)"
   ]
  },
  {
   "cell_type": "code",
   "execution_count": 24,
   "metadata": {},
   "outputs": [
    {
     "data": {
      "text/plain": [
       "CustomerID              0\n",
       "FirstName               0\n",
       "LastName                0\n",
       "AddressLine1            0\n",
       "City                    0\n",
       "StateProvinceName       0\n",
       "CountryRegionName       0\n",
       "PostalCode              0\n",
       "PhoneNumber             0\n",
       "BirthDate               0\n",
       "Education               0\n",
       "Occupation              0\n",
       "Gender                  0\n",
       "MaritalStatus           0\n",
       "HomeOwnerFlag           0\n",
       "NumberCarsOwned         0\n",
       "NumberChildrenAtHome    0\n",
       "TotalChildren           0\n",
       "YearlyIncome            0\n",
       "BikeBuyer               0\n",
       "AveMonthSpend           0\n",
       "dtype: int64"
      ]
     },
     "execution_count": 24,
     "metadata": {},
     "output_type": "execute_result"
    }
   ],
   "source": [
    "merge_2.isnull().sum()"
   ]
  },
  {
   "cell_type": "code",
   "execution_count": 25,
   "metadata": {},
   "outputs": [],
   "source": [
    "#cleaned data file will be used for classification and regression\n",
    "merge_2.to_csv('clean_data.csv')"
   ]
  },
  {
   "cell_type": "code",
   "execution_count": 26,
   "metadata": {},
   "outputs": [
    {
     "name": "stdout",
     "output_type": "stream",
     "text": [
      "0    10953\n",
      "1     5451\n",
      "Name: BikeBuyer, dtype: int64\n"
     ]
    }
   ],
   "source": [
    "val=merge_2.BikeBuyer.value_counts()\n",
    "print(val)"
   ]
  },
  {
   "cell_type": "code",
   "execution_count": 27,
   "metadata": {},
   "outputs": [
    {
     "data": {
      "image/png": "[encoded data removed]",
      "text/plain": [
       "<Figure size 432x288 with 1 Axes>"
      ]
     },
     "metadata": {},
     "output_type": "display_data"
    }
   ],
   "source": [
    "#perform visualization for Occupation and YearlyIncome using boxplot\n",
    "sns.set_style(\"whitegrid\")\n",
    "sns.boxplot(x=\"Occupation\",y=\"YearlyIncome\", data=merge_2)\n",
    "plt.xlabel(\"Occupation\")\n",
    "#plt.ylabel(col)\n",
    "plt.show()\n"
   ]
  },
  {
   "cell_type": "code",
   "execution_count": 28,
   "metadata": {},
   "outputs": [],
   "source": [
    "DataCollection=pd.to_datetime('1998-01-01')\n",
    "merge_2['BirthDate']=pd.to_datetime(merge_2['BirthDate'])\n",
    "#print(DataCollection)\n",
    "#print(merge_2['BirthDate'])\n"
   ]
  },
  {
   "cell_type": "code",
   "execution_count": 29,
   "metadata": {},
   "outputs": [
    {
     "name": "stdout",
     "output_type": "stream",
     "text": [
      "0        31\n",
      "1        32\n",
      "2        32\n",
      "3        29\n",
      "4        29\n",
      "         ..\n",
      "17160    38\n",
      "17161    39\n",
      "17162    37\n",
      "17163    38\n",
      "17164    38\n",
      "Name: age, Length: 16404, dtype: int32\n"
     ]
    }
   ],
   "source": [
    "#add age column \n",
    "def convert_age(cdate,bdate):\n",
    "    \n",
    "    diff=cdate-bdate\n",
    "    age=diff.dt.days.div(365).astype(int)\n",
    "    return age\n",
    "bdate=merge_2['BirthDate']\n",
    "#from dateutil import relativedelta\n",
    "#age1=relativedelta(DataCollection,bdate)\n",
    "\n",
    "age=convert_age(DataCollection,bdate)\n",
    "merge_2['age']=age\n",
    "print(merge_2['age'])    "
   ]
  },
  {
   "cell_type": "code",
   "execution_count": 16,
   "metadata": {},
   "outputs": [
    {
     "name": "stdout",
     "output_type": "stream",
     "text": [
      "0        25-45\n",
      "1        25-45\n",
      "2        25-45\n",
      "3        25-45\n",
      "4        25-45\n",
      "         ...  \n",
      "17160    25-45\n",
      "17161    25-45\n",
      "17162    25-45\n",
      "17163    25-45\n",
      "17164    25-45\n",
      "Name: agegroup, Length: 16404, dtype: category\n",
      "Categories (4, object): ['0-25' < '25-45' < '45-55' < '55-120']\n",
      "       CustomerID  FirstName LastName            AddressLine1            City  \\\n",
      "0           11000        Jon     Yang         3761 N. 14th St     Rockhampton   \n",
      "1           11001     Eugene    Huang              2243 W St.         Seaford   \n",
      "2           11002      Ruben   Torres        5844 Linden Land          Hobart   \n",
      "3           11003    Christy      Zhu        1825 Village Pl.      North Ryde   \n",
      "4           11004  Elizabeth  Johnson     7553 Harness Circle      Wollongong   \n",
      "...           ...        ...      ...                     ...             ...   \n",
      "17160       29478     Darren  Carlson        5240 Premier Pl.  Stoke-on-Trent   \n",
      "17161       29479      Tommy     Tang       111, rue Maillard      Versailles   \n",
      "17162       29480       Nina     Raji       9 Katherine Drive          London   \n",
      "17163       29481       Ivan     Suri             Knaackstr 4             Hof   \n",
      "17164       29482    Clayton    Zhang  1080, quai de Grenelle      Saint Ouen   \n",
      "\n",
      "       StateProvinceName CountryRegionName PostalCode          PhoneNumber  \\\n",
      "0             Queensland         Australia       4700  1 (11) 500 555-0162   \n",
      "1               Victoria         Australia       3198  1 (11) 500 555-0110   \n",
      "2               Tasmania         Australia       7001  1 (11) 500 555-0184   \n",
      "3        New South Wales         Australia       2113  1 (11) 500 555-0162   \n",
      "4        New South Wales         Australia       2500  1 (11) 500 555-0131   \n",
      "...                  ...               ...        ...                  ...   \n",
      "17160            England    United Kingdom       AS23  1 (11) 500 555-0132   \n",
      "17161            Yveline            France      78000  1 (11) 500 555-0136   \n",
      "17162            England    United Kingdom   SW19 3RU  1 (11) 500 555-0146   \n",
      "17163             Bayern           Germany      95010  1 (11) 500 555-0144   \n",
      "17164  Charente-Maritime            France      17490  1 (11) 500 555-0137   \n",
      "\n",
      "       BirthDate  ... MaritalStatus HomeOwnerFlag NumberCarsOwned  \\\n",
      "0     1966-04-08  ...             M             1               0   \n",
      "1     1965-05-14  ...             S             0               1   \n",
      "2     1965-08-12  ...             M             1               1   \n",
      "3     1968-02-15  ...             S             0               1   \n",
      "4     1968-08-08  ...             S             1               4   \n",
      "...          ...  ...           ...           ...             ...   \n",
      "17160 1959-05-25  ...             S             1               0   \n",
      "17161 1958-07-04  ...             M             1               0   \n",
      "17162 1960-11-10  ...             S             1               0   \n",
      "17163 1960-01-05  ...             S             0               0   \n",
      "17164 1959-03-05  ...             M             1               0   \n",
      "\n",
      "      NumberChildrenAtHome  TotalChildren  YearlyIncome  BikeBuyer  \\\n",
      "0                        0              2        137947          0   \n",
      "1                        3              3        101141          1   \n",
      "2                        3              3         91945          0   \n",
      "3                        0              0         86688          0   \n",
      "4                        5              5         92771          1   \n",
      "...                    ...            ...           ...        ...   \n",
      "17160                    0              3         45986          0   \n",
      "17161                    0              1         80049          0   \n",
      "17162                    0              3         60417          1   \n",
      "17163                    0              3         66653          0   \n",
      "17164                    0              3         59736          0   \n",
      "\n",
      "       AveMonthSpend  age  agegroup  \n",
      "0                 89   31     25-45  \n",
      "1                117   32     25-45  \n",
      "2                123   32     25-45  \n",
      "3                 50   29     25-45  \n",
      "4                 95   29     25-45  \n",
      "...              ...  ...       ...  \n",
      "17160             65   38     25-45  \n",
      "17161             77   39     25-45  \n",
      "17162             48   37     25-45  \n",
      "17163             65   38     25-45  \n",
      "17164             72   38     25-45  \n",
      "\n",
      "[16404 rows x 23 columns]\n"
     ]
    }
   ],
   "source": [
    "#categorise customers by the agegroup\n",
    "bins=[0,25,45,55,120]\n",
    "label=['0-25','25-45','45-55','55-120']\n",
    "merge_2['agegroup']=pd.cut(merge_2['age'],bins=bins,labels=label,)\n",
    "print(merge_2['agegroup'])\n",
    "print(merge_2)\n"
   ]
  },
  {
   "cell_type": "code",
   "execution_count": 17,
   "metadata": {},
   "outputs": [
    {
     "data": {
      "text/plain": [
       "<AxesSubplot:xlabel='agegroup', ylabel='AveMonthSpend'>"
      ]
     },
     "execution_count": 17,
     "metadata": {},
     "output_type": "execute_result"
    },
    {
     "data": {
      "image/png": "[encoded data removed]",
      "text/plain": [
       "<Figure size 432x288 with 1 Axes>"
      ]
     },
     "metadata": {},
     "output_type": "display_data"
    }
   ],
   "source": [
    "sns.barplot(x='agegroup',y='AveMonthSpend',hue='Gender',data=merge_2)"
   ]
  },
  {
   "cell_type": "code",
   "execution_count": 18,
   "metadata": {},
   "outputs": [
    {
     "data": {
      "image/png": "[encoded data removed]",
      "text/plain": [
       "<Figure size 432x288 with 1 Axes>"
      ]
     },
     "metadata": {},
     "output_type": "display_data"
    }
   ],
   "source": [
    "sns.set_style(\"whitegrid\")\n",
    "sns.boxplot(x=\"MaritalStatus\",y=\"AveMonthSpend\", data=merge_2)\n",
    "plt.xlabel(\"MaritalStatus\")\n",
    "#plt.ylabel(col)\n",
    "plt.show()"
   ]
  },
  {
   "cell_type": "code",
   "execution_count": 19,
   "metadata": {},
   "outputs": [
    {
     "data": {
      "image/png": "[encoded data removed]",
      "text/plain": [
       "<Figure size 432x288 with 1 Axes>"
      ]
     },
     "metadata": {},
     "output_type": "display_data"
    }
   ],
   "source": [
    "sns.set_style(\"darkgrid\")\n",
    "sns.boxplot(x=\"NumberCarsOwned\",y=\"AveMonthSpend\", data=merge_2)\n",
    "plt.xlabel(\"NumberCarsOwned\")\n",
    "#plt.ylabel(col)\n",
    "plt.show()"
   ]
  },
  {
   "cell_type": "code",
   "execution_count": 20,
   "metadata": {},
   "outputs": [
    {
     "data": {
      "image/png": "[encoded data removed]",
      "text/plain": [
       "<Figure size 432x288 with 1 Axes>"
      ]
     },
     "metadata": {},
     "output_type": "display_data"
    }
   ],
   "source": [
    "sns.set_style(\"dark\")\n",
    "sns.boxplot(x=\"Gender\",y=\"AveMonthSpend\", data=merge_2)\n",
    "plt.xlabel(\"Gender\")\n",
    "#plt.ylabel(col)\n",
    "plt.show()"
   ]
  },
  {
   "cell_type": "code",
   "execution_count": 21,
   "metadata": {},
   "outputs": [
    {
     "data": {
      "image/png": "[encoded data removed]",
      "text/plain": [
       "<Figure size 432x288 with 1 Axes>"
      ]
     },
     "metadata": {},
     "output_type": "display_data"
    }
   ],
   "source": [
    "sns.set_style(\"ticks\")\n",
    "sns.boxplot(x=\"NumberChildrenAtHome\",y=\"AveMonthSpend\", data=merge_2)\n",
    "plt.xlabel(\"NumberChildrenAtHome\")\n",
    "#plt.ylabel(col)\n",
    "plt.show()"
   ]
  },
  {
   "cell_type": "code",
   "execution_count": 22,
   "metadata": {},
   "outputs": [
    {
     "data": {
      "image/png": "[encoded data removed]",
      "text/plain": [
       "<Figure size 432x288 with 1 Axes>"
      ]
     },
     "metadata": {},
     "output_type": "display_data"
    }
   ],
   "source": [
    "sns.set_style(\"darkgrid\")\n",
    "sns.boxplot(x=\"BikeBuyer\",y=\"NumberCarsOwned\", data=merge_2)\n",
    "plt.xlabel(\"BikeBuyers\")\n",
    "#plt.ylabel(col)\n",
    "plt.show()"
   ]
  },
  {
   "cell_type": "code",
   "execution_count": 4,
   "metadata": {},
   "outputs": [
    {
     "data": {
      "image/png": "[encoded data removed]",
      "text/plain": [
       "<Figure size 432x288 with 1 Axes>"
      ]
     },
     "metadata": {},
     "output_type": "display_data"
    }
   ],
   "source": [
    "sns.set_style(\"darkgrid\")\n",
    "sns.boxplot(x=\"BikeBuyer\",y=\"YearlyIncome\", data=merge_2)\n",
    "plt.xlabel(\"BikeBuyers\")\n",
    "#plt.ylabel(col)\n",
    "plt.show()"
   ]
  },
  {
   "cell_type": "code",
   "execution_count": 33,
   "metadata": {},
   "outputs": [
    {
     "name": "stdout",
     "output_type": "stream",
     "text": [
      "Occupation\n",
      "   BikeBuyer      Occupation  dummy\n",
      "0          0        Clerical   1981\n",
      "1          0      Management   1702\n",
      "2          0          Manual   1625\n",
      "3          0    Professional   2740\n",
      "4          0  Skilled Manual   2905\n",
      "5          1        Clerical    616\n",
      "6          1      Management   1016\n",
      "7          1          Manual    504\n",
      "8          1    Professional   2182\n",
      "9          1  Skilled Manual   1133\n"
     ]
    },
    {
     "data": {
      "image/png": "[encoded data removed]",
      "text/plain": [
       "<Figure size 720x288 with 2 Axes>"
      ]
     },
     "metadata": {},
     "output_type": "display_data"
    },
    {
     "name": "stdout",
     "output_type": "stream",
     "text": [
      "Gender\n",
      "   BikeBuyer Gender  dummy\n",
      "0          0      F   5882\n",
      "1          0      M   5071\n",
      "2          1      F   2232\n",
      "3          1      M   3219\n"
     ]
    },
    {
     "data": {
      "image/png": "[encoded data removed]",
      "text/plain": [
       "<Figure size 720x288 with 2 Axes>"
      ]
     },
     "metadata": {},
     "output_type": "display_data"
    },
    {
     "name": "stdout",
     "output_type": "stream",
     "text": [
      "MaritalStatus\n",
      "   BikeBuyer MaritalStatus  dummy\n",
      "0          0             M   6656\n",
      "1          0             S   4297\n",
      "2          1             M   2196\n",
      "3          1             S   3255\n"
     ]
    },
    {
     "data": {
      "image/png": "[encoded data removed]",
      "text/plain": [
       "<Figure size 720x288 with 2 Axes>"
      ]
     },
     "metadata": {},
     "output_type": "display_data"
    }
   ],
   "source": [
    "cat_cols=['Occupation', 'Gender', 'MaritalStatus']\n",
    "\n",
    "merge_2['dummy']= np.ones(shape = merge_2.shape[0])\n",
    "\n",
    "for col in cat_cols:\n",
    "    print(col)\n",
    "    \n",
    "    counts = merge_2[['dummy', 'BikeBuyer', col]].groupby(['BikeBuyer', col], \n",
    "                                                         as_index = False).count()\n",
    "    print(counts)\n",
    "    \n",
    "    _ = plt.figure(figsize = (10,4))\n",
    "    \n",
    "    plt.subplot(1, 2, 1)\n",
    "    temp = counts[counts['BikeBuyer'] == 0][[col, 'dummy']]\n",
    "    plt.bar(temp[col], temp.dummy)\n",
    "    plt.xticks(rotation=90)\n",
    "    plt.title('Counts for ' + col + '\\n Non BikeBuyer')\n",
    "    plt.ylabel('count')\n",
    "    \n",
    "    plt.subplot(1, 2, 2)\n",
    "    temp = counts[counts['BikeBuyer'] == 1][[col, 'dummy']]\n",
    "    plt.bar(temp[col], temp.dummy)\n",
    "    plt.xticks(rotation=90)\n",
    "    plt.title('Counts for ' + col + '\\n BikeBuyer')\n",
    "    plt.ylabel('count')\n",
    "    plt.show()\n"
   ]
  },
  {
   "cell_type": "code",
   "execution_count": null,
   "metadata": {},
   "outputs": [],
   "source": []
  },
  {
   "cell_type": "code",
   "execution_count": 34,
   "metadata": {},
   "outputs": [
    {
     "name": "stdout",
     "output_type": "stream",
     "text": [
      "<class 'pandas.core.frame.DataFrame'>\n",
      "Int64Index: 16404 entries, 0 to 17164\n",
      "Data columns (total 23 columns):\n",
      " #   Column                Non-Null Count  Dtype         \n",
      "---  ------                --------------  -----         \n",
      " 0   CustomerID            16404 non-null  int64         \n",
      " 1   FirstName             16404 non-null  object        \n",
      " 2   LastName              16404 non-null  object        \n",
      " 3   AddressLine1          16404 non-null  object        \n",
      " 4   City                  16404 non-null  object        \n",
      " 5   StateProvinceName     16404 non-null  object        \n",
      " 6   CountryRegionName     16404 non-null  object        \n",
      " 7   PostalCode            16404 non-null  object        \n",
      " 8   PhoneNumber           16404 non-null  object        \n",
      " 9   BirthDate             16404 non-null  datetime64[ns]\n",
      " 10  Education             16404 non-null  object        \n",
      " 11  Occupation            16404 non-null  object        \n",
      " 12  Gender                16404 non-null  object        \n",
      " 13  MaritalStatus         16404 non-null  object        \n",
      " 14  HomeOwnerFlag         16404 non-null  int64         \n",
      " 15  NumberCarsOwned       16404 non-null  int64         \n",
      " 16  NumberChildrenAtHome  16404 non-null  int64         \n",
      " 17  TotalChildren         16404 non-null  int64         \n",
      " 18  YearlyIncome          16404 non-null  int64         \n",
      " 19  BikeBuyer             16404 non-null  int64         \n",
      " 20  AveMonthSpend         16404 non-null  int64         \n",
      " 21  age                   16404 non-null  int32         \n",
      " 22  dummy                 16404 non-null  float64       \n",
      "dtypes: datetime64[ns](1), float64(1), int32(1), int64(8), object(12)\n",
      "memory usage: 3.6+ MB\n"
     ]
    }
   ],
   "source": [
    "merge_2.info()\n",
    "merge_2.to_csv('clean_data_with_Agegroup')\n"
   ]
  },
  {
   "cell_type": "code",
   "execution_count": null,
   "metadata": {},
   "outputs": [],
   "source": []
  }
 ],
 "metadata": {
  "kernelspec": {
   "display_name": "Python 3",
   "language": "python",
   "name": "python3"
  },
  "language_info": {
   "codemirror_mode": {
    "name": "ipython",
    "version": 3
   },
   "file_extension": ".py",
   "mimetype": "text/x-python",
   "name": "python",
   "nbconvert_exporter": "python",
   "pygments_lexer": "ipython3",
   "version": "3.8.5"
  }
 },
 "nbformat": 4,
 "nbformat_minor": 4
}
