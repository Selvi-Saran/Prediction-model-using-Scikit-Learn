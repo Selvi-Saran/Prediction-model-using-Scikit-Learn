{
 "cells": [
  {
   "cell_type": "code",
   "execution_count": 11,
   "metadata": {},
   "outputs": [],
   "source": [
    "import numpy as np\n",
    "import numpy.random as nr\n",
    "import pandas as pd\n",
    "import matplotlib.pyplot as plt\n",
    "import sklearn.model_selection as ms\n",
    "import sklearn.metrics as sklm\n",
    "from sklearn import preprocessing\n",
    "from sklearn import linear_model\n",
    "import scipy.stats as ss\n",
    "import seaborn as sns\n",
    "import math\n"
   ]
  },
  {
   "cell_type": "code",
   "execution_count": 12,
   "metadata": {},
   "outputs": [],
   "source": [
    "df = pd.read_csv('clean_data_with_Agegroup') "
   ]
  },
  {
   "cell_type": "code",
   "execution_count": 13,
   "metadata": {},
   "outputs": [
    {
     "name": "stdout",
     "output_type": "stream",
     "text": [
      "<class 'pandas.core.frame.DataFrame'>\n",
      "RangeIndex: 16404 entries, 0 to 16403\n",
      "Data columns (total 25 columns):\n",
      " #   Column                Non-Null Count  Dtype  \n",
      "---  ------                --------------  -----  \n",
      " 0   Unnamed: 0            16404 non-null  int64  \n",
      " 1   CustomerID            16404 non-null  int64  \n",
      " 2   FirstName             16404 non-null  object \n",
      " 3   LastName              16404 non-null  object \n",
      " 4   AddressLine1          16404 non-null  object \n",
      " 5   City                  16404 non-null  object \n",
      " 6   StateProvinceName     16404 non-null  object \n",
      " 7   CountryRegionName     16404 non-null  object \n",
      " 8   PostalCode            16404 non-null  object \n",
      " 9   PhoneNumber           16404 non-null  object \n",
      " 10  BirthDate             16404 non-null  object \n",
      " 11  Education             16404 non-null  object \n",
      " 12  Occupation            16404 non-null  object \n",
      " 13  Gender                16404 non-null  object \n",
      " 14  MaritalStatus         16404 non-null  object \n",
      " 15  HomeOwnerFlag         16404 non-null  int64  \n",
      " 16  NumberCarsOwned       16404 non-null  int64  \n",
      " 17  NumberChildrenAtHome  16404 non-null  int64  \n",
      " 18  TotalChildren         16404 non-null  int64  \n",
      " 19  YearlyIncome          16404 non-null  int64  \n",
      " 20  BikeBuyer             16404 non-null  int64  \n",
      " 21  AveMonthSpend         16404 non-null  int64  \n",
      " 22  age                   16404 non-null  int64  \n",
      " 23  agegroup              16404 non-null  object \n",
      " 24  dummy                 16404 non-null  float64\n",
      "dtypes: float64(1), int64(10), object(14)\n",
      "memory usage: 3.1+ MB\n"
     ]
    }
   ],
   "source": [
    "df.columns\n",
    "df.info()\n"
   ]
  },
  {
   "cell_type": "code",
   "execution_count": 14,
   "metadata": {},
   "outputs": [
    {
     "name": "stdout",
     "output_type": "stream",
     "text": [
      "<bound method Series.unique of 0             Bachelors \n",
      "1             Bachelors \n",
      "2             Bachelors \n",
      "3             Bachelors \n",
      "4             Bachelors \n",
      "              ...       \n",
      "16399    Graduate Degree\n",
      "16400    Graduate Degree\n",
      "16401    Graduate Degree\n",
      "16402    Graduate Degree\n",
      "16403         Bachelors \n",
      "Name: Education, Length: 16404, dtype: object>\n",
      "<bound method Series.unique of 0        Professional\n",
      "1        Professional\n",
      "2        Professional\n",
      "3        Professional\n",
      "4        Professional\n",
      "             ...     \n",
      "16399        Clerical\n",
      "16400        Clerical\n",
      "16401        Clerical\n",
      "16402        Clerical\n",
      "16403        Clerical\n",
      "Name: Occupation, Length: 16404, dtype: object>\n",
      "<bound method Series.unique of 0        M\n",
      "1        M\n",
      "2        M\n",
      "3        F\n",
      "4        F\n",
      "        ..\n",
      "16399    M\n",
      "16400    M\n",
      "16401    F\n",
      "16402    M\n",
      "16403    M\n",
      "Name: Gender, Length: 16404, dtype: object>\n",
      "<bound method Series.unique of 0        M\n",
      "1        S\n",
      "2        M\n",
      "3        S\n",
      "4        S\n",
      "        ..\n",
      "16399    S\n",
      "16400    M\n",
      "16401    S\n",
      "16402    S\n",
      "16403    M\n",
      "Name: MaritalStatus, Length: 16404, dtype: object>\n",
      "<bound method Series.unique of 0        25-45\n",
      "1        25-45\n",
      "2        25-45\n",
      "3        25-45\n",
      "4        25-45\n",
      "         ...  \n",
      "16399    25-45\n",
      "16400    25-45\n",
      "16401    25-45\n",
      "16402    25-45\n",
      "16403    25-45\n",
      "Name: agegroup, Length: 16404, dtype: object>\n",
      "<bound method Series.unique of 0        1\n",
      "1        0\n",
      "2        1\n",
      "3        0\n",
      "4        1\n",
      "        ..\n",
      "16399    1\n",
      "16400    1\n",
      "16401    1\n",
      "16402    0\n",
      "16403    1\n",
      "Name: HomeOwnerFlag, Length: 16404, dtype: int64>\n"
     ]
    }
   ],
   "source": [
    "categorical_columns = ['Education', \n",
    "                       'Occupation', 'Gender', \n",
    "                       'MaritalStatus', \n",
    "                       'agegroup','HomeOwnerFlag']\n",
    "\n",
    "for cate in categorical_columns:\n",
    "    print(df[cate].unique)\n"
   ]
  },
  {
   "cell_type": "code",
   "execution_count": 15,
   "metadata": {},
   "outputs": [],
   "source": [
    "def encode_string(cat_feature):\n",
    "    \n",
    "    ## First encode the strings to numeric categories\n",
    "    enc = preprocessing.LabelEncoder()\n",
    "    enc.fit(cat_feature)\n",
    "    enc_cat_feature = enc.transform(cat_feature)\n",
    "\n",
    "    ## Now, apply one hot encoding\n",
    "    ohe = preprocessing.OneHotEncoder()\n",
    "    encoded = ohe.fit(enc_cat_feature.reshape(-1,1))\n",
    "    return encoded.transform(enc_cat_feature.reshape(-1,1)).toarray()\n"
   ]
  },
  {
   "cell_type": "code",
   "execution_count": 16,
   "metadata": {},
   "outputs": [
    {
     "name": "stdout",
     "output_type": "stream",
     "text": [
      "Education (16404, 5)\n",
      "Occupation (16404, 5)\n",
      "Gender (16404, 2)\n",
      "MaritalStatus (16404, 2)\n",
      "agegroup (16404, 4)\n",
      "HomeOwnerFlag (16404, 2)\n",
      "(16404, 20)\n",
      "[[1. 0. 0. 0. 0. 0. 0. 0. 1. 0. 0. 1. 1. 0. 0. 1. 0. 0. 0. 1.]\n",
      " [1. 0. 0. 0. 0. 0. 0. 0. 1. 0. 0. 1. 0. 1. 0. 1. 0. 0. 1. 0.]]\n"
     ]
    }
   ],
   "source": [
    "# create a list of empty lists to store features\n",
    "alist = [ [] for _ in range(df.shape[0]) ]\n",
    "Features = np.array(alist)\n",
    "\n",
    "for col in categorical_columns:\n",
    "    temp = encode_string(df[col])\n",
    "    print(col,temp.shape)\n",
    "    Features = np.concatenate([Features, temp], axis = 1)\n",
    "\n",
    "# used later to identify columns to start scaling\n",
    "start_num_idx = Features.shape[1] \n",
    "\n",
    "print(Features.shape)\n",
    "print(Features[:2, :])   # first two sample rows \n",
    "\n"
   ]
  },
  {
   "cell_type": "code",
   "execution_count": 17,
   "metadata": {},
   "outputs": [
    {
     "name": "stdout",
     "output_type": "stream",
     "text": [
      "16404\n"
     ]
    }
   ],
   "source": [
    "numerical_columns = ['NumberCarsOwned','NumberChildrenAtHome',\n",
    "                     'TotalChildren',\n",
    "                     'YearlyIncome'] \n",
    "\n",
    "Features = np.concatenate([Features, np.array(df[numerical_columns])], axis = 1)\n",
    "\n",
    "np.set_printoptions(suppress=True)\n",
    "Features[:3,:]\n",
    "print(Features.shape[0])\n"
   ]
  },
  {
   "cell_type": "code",
   "execution_count": 18,
   "metadata": {},
   "outputs": [
    {
     "name": "stdout",
     "output_type": "stream",
     "text": [
      "[4.48863637 4.76217393 4.81218436 ... 3.87120101 4.17438727 4.27666612]\n",
      "(11483, 24) (11483,)\n",
      "(4921, 24) (4921,)\n",
      "20\n"
     ]
    }
   ],
   "source": [
    "nr.seed(777)\n",
    "labels = np.array(np.log(df['AveMonthSpend'])) #take log of AveMonthSpend\n",
    "\n",
    "print(labels)\n",
    "indx = range(Features.shape[0])\n",
    "\n",
    "test_size = int(0.3*Features.shape[0])\n",
    "indx = ms.train_test_split(indx, test_size = test_size)\n",
    "\n",
    "x_train = Features[indx[0],:]\n",
    "y_train = np.ravel(labels[indx[0]]) # note in log scale\n",
    "\n",
    "x_test = Features[indx[1],:]\n",
    "y_test = np.ravel(labels[indx[1]])  # note in log scale\n",
    "\n",
    "print(x_train.shape, y_train.shape)\n",
    "print(x_test.shape, y_test.shape)\n",
    "print(start_num_idx)\n"
   ]
  },
  {
   "cell_type": "code",
   "execution_count": 19,
   "metadata": {},
   "outputs": [
    {
     "name": "stdout",
     "output_type": "stream",
     "text": [
      "(11483, 24)\n"
     ]
    },
    {
     "data": {
      "text/plain": [
       "array([[ 0.        ,  0.        ,  0.        ,  1.        ,  0.        ,\n",
       "         1.        ,  0.        ,  0.        ,  0.        ,  0.        ,\n",
       "         1.        ,  0.        ,  1.        ,  0.        ,  0.        ,\n",
       "         1.        ,  0.        ,  0.        ,  0.        ,  1.        ,\n",
       "        -0.44298606, -0.648844  ,  0.00357006, -0.79280791],\n",
       "       [ 0.        ,  0.        ,  0.        ,  1.        ,  0.        ,\n",
       "         1.        ,  0.        ,  0.        ,  0.        ,  0.        ,\n",
       "         0.        ,  1.        ,  0.        ,  1.        ,  1.        ,\n",
       "         0.        ,  0.        ,  0.        ,  1.        ,  0.        ,\n",
       "        -0.44298606, -0.648844  , -1.18469065, -0.77500411],\n",
       "       [ 0.        ,  0.        ,  1.        ,  0.        ,  0.        ,\n",
       "         0.        ,  0.        ,  0.        ,  0.        ,  1.        ,\n",
       "         1.        ,  0.        ,  0.        ,  1.        ,  1.        ,\n",
       "         0.        ,  0.        ,  0.        ,  1.        ,  0.        ,\n",
       "         0.43329455, -0.648844  , -1.18469065, -0.8175368 ]])"
      ]
     },
     "execution_count": 19,
     "metadata": {},
     "output_type": "execute_result"
    }
   ],
   "source": [
    "# Apply scaling on numerical columns\n",
    "scaler = preprocessing.StandardScaler().fit(x_train[:,start_num_idx:])\n",
    "\n",
    "x_train[:,start_num_idx:] = scaler.transform(x_train[:,start_num_idx:])\n",
    "x_test[:,start_num_idx:] = scaler.transform(x_test[:,start_num_idx:])\n",
    "print(x_train.shape)\n",
    "x_train[:3,:]\n"
   ]
  },
  {
   "cell_type": "code",
   "execution_count": 20,
   "metadata": {},
   "outputs": [
    {
     "data": {
      "text/plain": [
       "LinearRegression(fit_intercept=False)"
      ]
     },
     "execution_count": 20,
     "metadata": {},
     "output_type": "execute_result"
    }
   ],
   "source": [
    "lin_mod = linear_model.LinearRegression(fit_intercept = False)\n",
    "lin_mod.fit(x_train, y_train)\n",
    "\n"
   ]
  },
  {
   "cell_type": "code",
   "execution_count": 21,
   "metadata": {},
   "outputs": [
    {
     "name": "stdout",
     "output_type": "stream",
     "text": [
      "0.0\n",
      "[-9.63310379e+10 -9.63310379e+10 -9.63310379e+10 -9.63310379e+10\n",
      " -9.63310379e+10  1.64937211e+11  1.64937211e+11  1.64937211e+11\n",
      "  1.64937211e+11  1.64937211e+11  3.73538333e+10  3.73538333e+10\n",
      "  5.17261120e+10  5.17261120e+10 -6.37079296e+10 -6.37079296e+10\n",
      " -6.37079296e+10 -6.37079296e+10 -9.39781888e+10 -9.39781888e+10\n",
      " -5.67781102e-03  1.96072177e-01 -2.03174528e-03  8.67185179e-02] 24\n"
     ]
    }
   ],
   "source": [
    "# print model parameters\n",
    "print(lin_mod.intercept_)\n",
    "print(lin_mod.coef_, lin_mod.coef_.shape[0])\n"
   ]
  },
  {
   "cell_type": "code",
   "execution_count": 22,
   "metadata": {},
   "outputs": [
    {
     "name": "stdout",
     "output_type": "stream",
     "text": [
      "[49.10753332 57.80016193 76.94992666 ... 46.24008423 53.02624864\n",
      " 97.32727063]\n",
      "[48. 52. 74. ... 48. 56. 97.]\n",
      "Mean Square Error      = 14.00172419543366\n",
      "Root Mean Square Error = 3.741887784986832\n",
      "Mean Absolute Error    = 2.907829941860452\n",
      "Median Absolute Error  = 2.3449686224275013\n",
      "R^2                    = 0.9806999977185017\n",
      "Adjusted R^2           = 0.9806053898641807\n"
     ]
    }
   ],
   "source": [
    "def print_metrics(y_true, y_predicted, n_parameters):\n",
    "    ## First compute R^2 and the adjusted R^2\n",
    "    r2 = sklm.r2_score(y_true, y_predicted)\n",
    "    r2_adj = r2 - (n_parameters - 1)/(y_true.shape[0] - n_parameters) * (1 - r2)\n",
    "    \n",
    "    ## Print the usual metrics and the R^2 values\n",
    "    print('Mean Square Error      = ' + str(sklm.mean_squared_error(y_true, y_predicted)))\n",
    "    print('Root Mean Square Error = ' + str(math.sqrt(sklm.mean_squared_error(y_true, y_predicted))))\n",
    "    print('Mean Absolute Error    = ' + str(sklm.mean_absolute_error(y_true, y_predicted)))\n",
    "    print('Median Absolute Error  = ' + str(sklm.median_absolute_error(y_true, y_predicted)))\n",
    "    print('R^2                    = ' + str(r2))\n",
    "    print('Adjusted R^2           = ' + str(r2_adj))\n",
    "\n",
    "y_score = lin_mod.predict(x_test) \n",
    "\n",
    "y_score_untransform = np.exp(y_score)\n",
    "y_test_untransform = np.exp(y_test)\n",
    "print(y_score_untransform)\n",
    "print(y_test_untransform)\n",
    "print_metrics(y_test_untransform, y_score_untransform, lin_mod.coef_.shape[0]+1)    # coef + 1 in-tercept \n"
   ]
  },
  {
   "cell_type": "code",
   "execution_count": 23,
   "metadata": {},
   "outputs": [
    {
     "name": "stderr",
     "output_type": "stream",
     "text": [
      "D:\\Project\\lib\\site-packages\\seaborn\\distributions.py:2551: FutureWarning: `distplot` is a deprecated function and will be removed in a future version. Please adapt your code to use either `displot` (a figure-level function with similar flexibility) or `histplot` (an axes-level function for histograms).\n",
      "  warnings.warn(msg, FutureWarning)\n"
     ]
    },
    {
     "data": {
      "image/png": "[encoded data removed]",
      "text/plain": [
       "<Figure size 432x288 with 1 Axes>"
      ]
     },
     "metadata": {
      "needs_background": "light"
     },
     "output_type": "display_data"
    }
   ],
   "source": [
    "def hist_resids(y_test, y_score):\n",
    "    ## first compute vector of residuals. \n",
    "    resids = np.subtract(y_test.reshape(-1,1), y_score.reshape(-1,1))\n",
    "    ## now make the residual plots\n",
    "    sns.distplot(resids)\n",
    "    plt.title('Histogram of residuals')\n",
    "    plt.xlabel('Residual value')\n",
    "    plt.ylabel('count')\n",
    "    \n",
    "#hist_resids(y_test, y_score)   \n",
    "hist_resids(y_test_untransform, y_score_untransform)   \n"
   ]
  },
  {
   "cell_type": "code",
   "execution_count": 24,
   "metadata": {},
   "outputs": [
    {
     "data": {
      "image/png": "[encoded data removed]",
      "text/plain": [
       "<Figure size 432x288 with 1 Axes>"
      ]
     },
     "metadata": {
      "needs_background": "light"
     },
     "output_type": "display_data"
    }
   ],
   "source": [
    "def resid_qq(y_test, y_score):\n",
    "    ## first compute vector of residuals. \n",
    "    resids = np.subtract(y_test.reshape(-1,1), y_score.reshape(-1,1))\n",
    "    ## now make the residual plots\n",
    "    ss.probplot(resids.flatten(), plot = plt)\n",
    "    plt.title('Residuals vs. predicted values')\n",
    "    plt.xlabel('Predicted values')\n",
    "    plt.ylabel('Residual')\n",
    "    \n",
    "resid_qq(y_test_untransform, y_score_untransform)   \n",
    "#resid_qq(y_test, y_score)   \n",
    "\n"
   ]
  },
  {
   "cell_type": "code",
   "execution_count": 24,
   "metadata": {},
   "outputs": [
    {
     "name": "stderr",
     "output_type": "stream",
     "text": [
      "D:\\Project\\lib\\site-packages\\seaborn\\_decorators.py:36: FutureWarning: Pass the following variables as keyword args: x, y. From version 0.12, the only valid positional argument will be `data`, and passing other arguments without an explicit keyword will result in an error or misinterpretation.\n",
      "  warnings.warn(\n"
     ]
    },
    {
     "data": {
      "image/png": "[encoded data removed]",
      "text/plain": [
       "<Figure size 432x288 with 1 Axes>"
      ]
     },
     "metadata": {
      "needs_background": "light"
     },
     "output_type": "display_data"
    }
   ],
   "source": [
    "def resid_plot(y_test, y_score):\n",
    "    ## first compute vector of residuals. \n",
    "    resids = np.subtract(y_test.reshape(-1,1), y_score.reshape(-1,1))\n",
    "    ## now make the residual plots\n",
    "    sns.regplot(y_score, resids, fit_reg=False)\n",
    "    plt.title('Residuals vs. predicted values')\n",
    "    plt.xlabel('Predicted values')\n",
    "    plt.ylabel('Residual')\n",
    "#resid_plot(y_test, y_score) \n",
    "resid_plot(y_test_untransform, y_score_untransform) \n",
    "\n"
   ]
  },
  {
   "cell_type": "code",
   "execution_count": 49,
   "metadata": {},
   "outputs": [
    {
     "name": "stdout",
     "output_type": "stream",
     "text": [
      "(500, 23) Index(['CustomerID', 'Title', 'FirstName', 'MiddleName', 'LastName', 'Suffix',\n",
      "       'AddressLine1', 'AddressLine2', 'City', 'StateProvinceName',\n",
      "       'CountryRegionName', 'PostalCode', 'PhoneNumber', 'BirthDate',\n",
      "       'Education', 'Occupation', 'Gender', 'MaritalStatus', 'HomeOwnerFlag',\n",
      "       'NumberCarsOwned', 'NumberChildrenAtHome', 'TotalChildren',\n",
      "       'YearlyIncome'],\n",
      "      dtype='object')\n"
     ]
    }
   ],
   "source": [
    "# this portion to read AW_test.csv, clean and test\n",
    "missing_value_formats=['n.a.','?','NA','n/a','na','--', 'null']\n",
    "aw_test = pd.read_csv('AW_test.csv', na_values=missing_value_formats)\n",
    "aw_test.drop_duplicates(subset='CustomerID', keep='last', inplace=True)\n",
    "print(aw_test.shape, aw_test.columns)\n",
    "\n"
   ]
  },
  {
   "cell_type": "code",
   "execution_count": 50,
   "metadata": {},
   "outputs": [
    {
     "data": {
      "text/plain": [
       "CustomerID                0\n",
       "Title                   496\n",
       "FirstName                 0\n",
       "MiddleName              216\n",
       "LastName                  0\n",
       "Suffix                  499\n",
       "AddressLine1              0\n",
       "AddressLine2            487\n",
       "City                      0\n",
       "StateProvinceName         0\n",
       "CountryRegionName         0\n",
       "PostalCode                0\n",
       "PhoneNumber               0\n",
       "BirthDate                 0\n",
       "Education                 0\n",
       "Occupation                0\n",
       "Gender                    0\n",
       "MaritalStatus             0\n",
       "HomeOwnerFlag             0\n",
       "NumberCarsOwned           0\n",
       "NumberChildrenAtHome      0\n",
       "TotalChildren             0\n",
       "YearlyIncome              0\n",
       "dtype: int64"
      ]
     },
     "execution_count": 50,
     "metadata": {},
     "output_type": "execute_result"
    }
   ],
   "source": [
    "aw_test.isnull().sum()"
   ]
  },
  {
   "cell_type": "code",
   "execution_count": 51,
   "metadata": {},
   "outputs": [],
   "source": [
    "aw_test.drop(columns=['Title','MiddleName','Suffix','AddressLine2'],inplace=True,axis=1)"
   ]
  },
  {
   "cell_type": "code",
   "execution_count": 52,
   "metadata": {},
   "outputs": [
    {
     "data": {
      "text/plain": [
       "(500, 19)"
      ]
     },
     "execution_count": 52,
     "metadata": {},
     "output_type": "execute_result"
    }
   ],
   "source": [
    "aw_test.isnull().sum()\n",
    "aw_test.shape"
   ]
  },
  {
   "cell_type": "code",
   "execution_count": 53,
   "metadata": {},
   "outputs": [],
   "source": [
    "def convert_bdate_age(birthDate, collectionDate):\n",
    "    \n",
    "    diff = collectionDate - birthDate\n",
    "    age = diff.dt.days.div(365).astype(int)\n",
    "    return age\n",
    "    \n",
    "aw_cDate = pd.to_datetime('1998-01-01')\n",
    "aw_test['BirthDate'] = pd.to_datetime(df['BirthDate'])    \n",
    "aw_bDate = aw_test['BirthDate']\n",
    "aw_age = convert_bdate_age(aw_bDate, aw_cDate)\n",
    "aw_test['age'] = aw_age\n",
    "\n"
   ]
  },
  {
   "cell_type": "code",
   "execution_count": 54,
   "metadata": {},
   "outputs": [],
   "source": [
    "numGroups = 10\n",
    "bins=[0,25,45,55,120]\n",
    "label=['0-25','25-45','45-55','55-120']\n",
    "\n",
    "aw_ageCats = pd.cut(aw_test['age'], bins=bins, labels=label)\n",
    "aw_test['agegroup'] = aw_ageCats\n",
    "\n"
   ]
  },
  {
   "cell_type": "code",
   "execution_count": 55,
   "metadata": {},
   "outputs": [
    {
     "data": {
      "text/plain": [
       "Index(['Unnamed: 0', 'CustomerID', 'FirstName', 'LastName', 'AddressLine1',\n",
       "       'City', 'StateProvinceName', 'CountryRegionName', 'PostalCode',\n",
       "       'PhoneNumber', 'BirthDate', 'Education', 'Occupation', 'Gender',\n",
       "       'MaritalStatus', 'HomeOwnerFlag', 'NumberCarsOwned',\n",
       "       'NumberChildrenAtHome', 'TotalChildren', 'YearlyIncome', 'age',\n",
       "       'agegroup'],\n",
       "      dtype='object')"
      ]
     },
     "execution_count": 55,
     "metadata": {},
     "output_type": "execute_result"
    }
   ],
   "source": [
    "aw_test.to_csv('clean_aw_test.csv')\n",
    "aw_test = pd.read_csv('clean_aw_test.csv')\n",
    "aw_test.columns  #there are NO BikeBuyer and AveMonthSpend\n",
    "aw_test.shape\n",
    "aw_test.columns"
   ]
  },
  {
   "cell_type": "code",
   "execution_count": 56,
   "metadata": {},
   "outputs": [
    {
     "name": "stdout",
     "output_type": "stream",
     "text": [
      "Education (500, 5)\n",
      "Occupation (500, 5)\n",
      "Gender (500, 2)\n",
      "MaritalStatus (500, 2)\n",
      "agegroup (500, 4)\n",
      "HomeOwnerFlag (500, 2)\n",
      "(500, 20)\n",
      "[[1. 0. 0. 0. 0. 0. 1. 0. 0. 0. 1. 0. 0. 1. 0. 1. 0. 0. 1. 0.]\n",
      " [1. 0. 0. 0. 0. 0. 0. 0. 0. 1. 0. 1. 1. 0. 0. 1. 0. 0. 0. 1.]]\n"
     ]
    },
    {
     "data": {
      "text/plain": [
       "(500, 24)"
      ]
     },
     "execution_count": 56,
     "metadata": {},
     "output_type": "execute_result"
    }
   ],
   "source": [
    "# create a list of empty lists to store features\n",
    "aw_alist = [ [] for _ in range(aw_test.shape[0]) ]\n",
    "aw_Features = np.array(aw_alist)\n",
    "\n",
    "for col in categorical_columns:\n",
    "    temp = encode_string(aw_test[col])\n",
    "    print(col,temp.shape)\n",
    "    aw_Features = np.concatenate([aw_Features, temp], axis = 1)\n",
    "    \n",
    "# used later to identify columns to start scaling\n",
    "aw_start_num_idx = aw_Features.shape[1] \n",
    "\n",
    "print(aw_Features.shape)\n",
    "print(aw_Features[:2, :])   # first two sample rows \n",
    "\n",
    "aw_Features = np.concatenate([aw_Features, np.array(aw_test[numerical_columns])], axis = 1)\n",
    "aw_Features[:2,:]\n",
    "aw_Features.shape\n",
    "\n"
   ]
  },
  {
   "cell_type": "code",
   "execution_count": 57,
   "metadata": {},
   "outputs": [
    {
     "name": "stdout",
     "output_type": "stream",
     "text": [
      "(500, 24)\n"
     ]
    },
    {
     "data": {
      "text/plain": [
       "array([[ 1.        ,  0.        ,  0.        ,  0.        ,  0.        ,\n",
       "         0.        ,  1.        ,  0.        ,  0.        ,  0.        ,\n",
       "         1.        ,  0.        ,  0.        ,  1.        ,  0.        ,\n",
       "         1.        ,  0.        ,  0.        ,  1.        ,  0.        ,\n",
       "         0.35928859, -0.72107754,  1.6591036 ,  0.12653132],\n",
       "       [ 1.        ,  0.        ,  0.        ,  0.        ,  0.        ,\n",
       "         0.        ,  0.        ,  0.        ,  0.        ,  1.        ,\n",
       "         0.        ,  1.        ,  1.        ,  0.        ,  0.        ,\n",
       "         1.        ,  0.        ,  0.        ,  0.        ,  1.        ,\n",
       "         0.35928859,  0.53297036,  1.06909521,  0.45161083],\n",
       "       [ 0.        ,  1.        ,  0.        ,  0.        ,  0.        ,\n",
       "         0.        ,  1.        ,  0.        ,  0.        ,  0.        ,\n",
       "         1.        ,  0.        ,  1.        ,  0.        ,  0.        ,\n",
       "         1.        ,  0.        ,  0.        ,  0.        ,  1.        ,\n",
       "         0.35928859, -0.72107754,  1.06909521,  0.54671519]])"
      ]
     },
     "execution_count": 57,
     "metadata": {},
     "output_type": "execute_result"
    }
   ],
   "source": [
    "# Apply scaling on numerical columns\n",
    "aw_scaler = preprocessing.StandardScaler().fit(aw_Features[:,aw_start_num_idx:])\n",
    "aw_Features[:,aw_start_num_idx:] = aw_scaler.transform(aw_Features[:,aw_start_num_idx:])\n",
    "print(aw_Features.shape)\n",
    "aw_Features[:3,:]\n"
   ]
  },
  {
   "cell_type": "code",
   "execution_count": 59,
   "metadata": {},
   "outputs": [],
   "source": [
    "aw_scores = lin_mod.predict(aw_Features) \n",
    "aw_scores_untransform = np.exp(aw_scores) #get back due to initial log\n",
    "\n"
   ]
  },
  {
   "cell_type": "code",
   "execution_count": 60,
   "metadata": {},
   "outputs": [
    {
     "data": {
      "text/html": [
       "<div>\n",
       "<style scoped>\n",
       "    .dataframe tbody tr th:only-of-type {\n",
       "        vertical-align: middle;\n",
       "    }\n",
       "\n",
       "    .dataframe tbody tr th {\n",
       "        vertical-align: top;\n",
       "    }\n",
       "\n",
       "    .dataframe thead th {\n",
       "        text-align: right;\n",
       "    }\n",
       "</style>\n",
       "<table border=\"1\" class=\"dataframe\">\n",
       "  <thead>\n",
       "    <tr style=\"text-align: right;\">\n",
       "      <th></th>\n",
       "      <th>index</th>\n",
       "      <th>CustomerID</th>\n",
       "      <th>0</th>\n",
       "    </tr>\n",
       "  </thead>\n",
       "  <tbody>\n",
       "    <tr>\n",
       "      <th>0</th>\n",
       "      <td>0</td>\n",
       "      <td>18988</td>\n",
       "      <td>47.661335</td>\n",
       "    </tr>\n",
       "    <tr>\n",
       "      <th>1</th>\n",
       "      <td>1</td>\n",
       "      <td>29135</td>\n",
       "      <td>102.352012</td>\n",
       "    </tr>\n",
       "    <tr>\n",
       "      <th>2</th>\n",
       "      <td>2</td>\n",
       "      <td>12156</td>\n",
       "      <td>53.394863</td>\n",
       "    </tr>\n",
       "    <tr>\n",
       "      <th>3</th>\n",
       "      <td>3</td>\n",
       "      <td>13749</td>\n",
       "      <td>84.983669</td>\n",
       "    </tr>\n",
       "    <tr>\n",
       "      <th>4</th>\n",
       "      <td>4</td>\n",
       "      <td>27780</td>\n",
       "      <td>54.452967</td>\n",
       "    </tr>\n",
       "    <tr>\n",
       "      <th>...</th>\n",
       "      <td>...</td>\n",
       "      <td>...</td>\n",
       "      <td>...</td>\n",
       "    </tr>\n",
       "    <tr>\n",
       "      <th>495</th>\n",
       "      <td>495</td>\n",
       "      <td>24211</td>\n",
       "      <td>49.226069</td>\n",
       "    </tr>\n",
       "    <tr>\n",
       "      <th>496</th>\n",
       "      <td>496</td>\n",
       "      <td>23627</td>\n",
       "      <td>81.240603</td>\n",
       "    </tr>\n",
       "    <tr>\n",
       "      <th>497</th>\n",
       "      <td>497</td>\n",
       "      <td>14500</td>\n",
       "      <td>76.298107</td>\n",
       "    </tr>\n",
       "    <tr>\n",
       "      <th>498</th>\n",
       "      <td>498</td>\n",
       "      <td>22223</td>\n",
       "      <td>54.503259</td>\n",
       "    </tr>\n",
       "    <tr>\n",
       "      <th>499</th>\n",
       "      <td>499</td>\n",
       "      <td>29068</td>\n",
       "      <td>40.939574</td>\n",
       "    </tr>\n",
       "  </tbody>\n",
       "</table>\n",
       "<p>500 rows × 3 columns</p>\n",
       "</div>"
      ],
      "text/plain": [
       "     index  CustomerID           0\n",
       "0        0       18988   47.661335\n",
       "1        1       29135  102.352012\n",
       "2        2       12156   53.394863\n",
       "3        3       13749   84.983669\n",
       "4        4       27780   54.452967\n",
       "..     ...         ...         ...\n",
       "495    495       24211   49.226069\n",
       "496    496       23627   81.240603\n",
       "497    497       14500   76.298107\n",
       "498    498       22223   54.503259\n",
       "499    499       29068   40.939574\n",
       "\n",
       "[500 rows x 3 columns]"
      ]
     },
     "execution_count": 60,
     "metadata": {},
     "output_type": "execute_result"
    }
   ],
   "source": [
    "pd_scores = pd.Series(aw_scores_untransform)\n",
    "pd_id = aw_test['CustomerID']\n",
    "newdf = pd.concat([pd_id, pd_scores], axis=1)\n",
    "newdf.reset_index()\n"
   ]
  },
  {
   "cell_type": "code",
   "execution_count": 61,
   "metadata": {},
   "outputs": [],
   "source": [
    "np.savetxt('RegressionResults.csv', newdf, delimiter=',', fmt='%d %f')\n",
    "\n",
    "\n",
    "\n"
   ]
  },
  {
   "cell_type": "code",
   "execution_count": null,
   "metadata": {},
   "outputs": [],
   "source": []
  }
 ],
 "metadata": {
  "kernelspec": {
   "display_name": "Python 3",
   "language": "python",
   "name": "python3"
  },
  "language_info": {
   "codemirror_mode": {
    "name": "ipython",
    "version": 3
   },
   "file_extension": ".py",
   "mimetype": "text/x-python",
   "name": "python",
   "nbconvert_exporter": "python",
   "pygments_lexer": "ipython3",
   "version": "3.8.5"
  }
 },
 "nbformat": 4,
 "nbformat_minor": 4
}
